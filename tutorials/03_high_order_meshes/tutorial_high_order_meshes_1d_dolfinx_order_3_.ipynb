{
 "cells": [
  {
   "cell_type": "markdown",
   "id": "6cad0127-5032-4ff0-8242-85b0478147c0",
   "metadata": {},
   "source": [
    "# Plotting 1D high order meshes in dolfinx"
   ]
  },
  {
   "cell_type": "code",
   "execution_count": null,
   "id": "gmsh_install",
   "metadata": {},
   "outputs": [],
   "source": [
    "try:\n",
    "    import gmsh\n",
    "except ImportError:\n",
    "    !wget \"https://github.com/fem-on-kaggle/fem-on-kaggle.github.io/raw/44b6664/releases/gmsh-install.sh\" -O \"/tmp/gmsh-install.sh\" && bash \"/tmp/gmsh-install.sh\"\n",
    "    import gmsh"
   ]
  },
  {
   "cell_type": "code",
   "execution_count": null,
   "id": "fenicsx_install",
   "metadata": {},
   "outputs": [],
   "source": [
    "try:\n",
    "    import dolfinx\n",
    "except ImportError:\n",
    "    !wget \"https://github.com/fem-on-kaggle/fem-on-kaggle.github.io/raw/44b6664/releases/fenicsx-install-development-real.sh\" -O \"/tmp/fenicsx-install.sh\" && bash \"/tmp/fenicsx-install.sh\"\n",
    "    import dolfinx"
   ]
  },
  {
   "cell_type": "code",
   "execution_count": null,
   "id": "viskex_install",
   "metadata": {},
   "outputs": [],
   "source": [
    "try:\n",
    "    import viskex\n",
    "except ImportError:\n",
    "    !pip3 install \"viskex@git+https://github.com/viskex/viskex.git@4198c5b\"\n",
    "    import viskex"
   ]
  },
  {
   "cell_type": "code",
   "execution_count": null,
   "id": "22b1dc6d-4754-4b3d-878d-e4629e232a71",
   "metadata": {},
   "outputs": [],
   "source": [
    "import dolfinx  # noqa: F401\n",
    "import gmsh\n",
    "import mpi4py.MPI"
   ]
  },
  {
   "cell_type": "code",
   "execution_count": null,
   "id": "24d952ff-09b9-4391-a459-cd413c62e59c",
   "metadata": {},
   "outputs": [],
   "source": [
    "import viskex"
   ]
  },
  {
   "cell_type": "code",
   "execution_count": null,
   "id": "7b73b59f-6990-4c48-873b-ea03692fdc8b",
   "metadata": {},
   "outputs": [],
   "source": [
    "try:\n",
    "    import common_03_dolfinx as common\n",
    "except ImportError:\n",
    "    !wget https://github.com/viskex/viskex/raw/main/tutorials/03_high_order_meshes/common_03_none.py\n",
    "    !wget https://github.com/viskex/viskex/raw/main/tutorials/03_high_order_meshes/common_03_dolfinx.py\n",
    "    import common_03_dolfinx as common"
   ]
  },
  {
   "cell_type": "code",
   "execution_count": null,
   "id": "8c621325-d891-4c60-b1cb-ee21f1cf6e91",
   "metadata": {},
   "outputs": [],
   "source": [
    "order = 3"
   ]
  },
  {
   "cell_type": "markdown",
   "id": "0725380a-dc3c-4be0-9c94-cff4dcd923e1",
   "metadata": {},
   "source": [
    "Create a mesh of the reference interval with the provided order."
   ]
  },
  {
   "cell_type": "code",
   "execution_count": null,
   "id": "35eca097-22f4-4928-b1f9-9cc58ef64039",
   "metadata": {},
   "outputs": [],
   "source": [
    "gmsh.initialize()"
   ]
  },
  {
   "cell_type": "code",
   "execution_count": null,
   "id": "b18eaf1a-e0a3-49af-90e3-bb6846e969bd",
   "metadata": {},
   "outputs": [],
   "source": [
    "gmsh.option.setNumber(\"General.Verbosity\", 1)"
   ]
  },
  {
   "cell_type": "code",
   "execution_count": null,
   "id": "e771aa40-43fa-40ea-84d1-00a3e74bf47b",
   "metadata": {},
   "outputs": [],
   "source": [
    "mesh, cell_tags, facet_tags = common.create_reference_interval(\n",
    "    mpi4py.MPI.COMM_WORLD, order=order, num_segments=6)"
   ]
  },
  {
   "cell_type": "code",
   "execution_count": null,
   "id": "0b80e1d1-3b5e-4db2-809e-bdaa46cef7cb",
   "metadata": {},
   "outputs": [],
   "source": [
    "gmsh.finalize()"
   ]
  },
  {
   "cell_type": "markdown",
   "id": "9d0d9e28-35da-4dc0-bf2b-39bbd0cd6181",
   "metadata": {},
   "source": [
    "Plot the mesh."
   ]
  },
  {
   "cell_type": "code",
   "execution_count": null,
   "id": "c261f626-fd4e-4c36-b849-0e863e380e7e",
   "metadata": {},
   "outputs": [],
   "source": [
    "viskex.dolfinx.plot_mesh(mesh)"
   ]
  },
  {
   "cell_type": "code",
   "execution_count": null,
   "id": "78c9e136-7bfd-4bab-98b9-c79d8d726d49",
   "metadata": {},
   "outputs": [],
   "source": [
    "viskex.dolfinx.plot_mesh(mesh, dim=0)"
   ]
  },
  {
   "cell_type": "markdown",
   "id": "6f701a9e-001f-4172-9727-e5c0f989cb19",
   "metadata": {},
   "source": [
    "Plot the cell tags, identifying two subdomains."
   ]
  },
  {
   "cell_type": "code",
   "execution_count": null,
   "id": "794566de-7c70-44d6-be8e-31e7ac72ec65",
   "metadata": {},
   "outputs": [],
   "source": [
    "viskex.dolfinx.plot_mesh_tags(mesh, cell_tags, \"Cell tags\")"
   ]
  },
  {
   "cell_type": "markdown",
   "id": "cf013d89-6edb-4e85-b21c-435b7616cc32",
   "metadata": {},
   "source": [
    "Plot the facet tags, identifying two boundaries (endpoints) and one interface (the origin)."
   ]
  },
  {
   "cell_type": "code",
   "execution_count": null,
   "id": "6d3b0643-3a05-411d-87ae-7a7178f4364e",
   "metadata": {},
   "outputs": [],
   "source": [
    "viskex.dolfinx.plot_mesh_tags(mesh, facet_tags, \"Facet tags\")"
   ]
  }
 ],
 "metadata": {
  "kernelspec": {
   "display_name": "Python 3 (ipykernel)",
   "language": "python",
   "name": "python3"
  },
  "language_info": {
   "codemirror_mode": {
    "name": "ipython"
   },
   "file_extension": ".py",
   "mimetype": "text/x-python",
   "name": "python",
   "nbconvert_exporter": "python"
  }
 },
 "nbformat": 4,
 "nbformat_minor": 5
}
