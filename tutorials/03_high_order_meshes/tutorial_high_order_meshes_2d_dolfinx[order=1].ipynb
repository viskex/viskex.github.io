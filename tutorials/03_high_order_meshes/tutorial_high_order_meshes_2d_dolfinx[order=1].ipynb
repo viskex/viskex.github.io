{
 "cells": [
  {
   "cell_type": "markdown",
   "id": "28062c50-025f-4871-8fb4-e902e1e58c75",
   "metadata": {},
   "source": [
    "# Plotting 2D high order meshes in dolfinx"
   ]
  },
  {
   "cell_type": "code",
   "execution_count": null,
   "id": "gmsh_install",
   "metadata": {},
   "outputs": [],
   "source": [
    "try:\n",
    "    import gmsh\n",
    "except ImportError:\n",
    "    !wget \"https://github.com/fem-on-colab/fem-on-colab.github.io/raw/d8f9d63/releases/gmsh-install.sh\" -O \"/tmp/gmsh-install.sh\" && bash \"/tmp/gmsh-install.sh\"\n",
    "    import gmsh"
   ]
  },
  {
   "cell_type": "code",
   "execution_count": null,
   "id": "fenicsx_install",
   "metadata": {},
   "outputs": [],
   "source": [
    "try:\n",
    "    import dolfinx\n",
    "except ImportError:\n",
    "    !wget \"https://github.com/fem-on-colab/fem-on-colab.github.io/raw/d8f9d63/releases/fenicsx-install-development-real.sh\" -O \"/tmp/fenicsx-install.sh\" && bash \"/tmp/fenicsx-install.sh\"\n",
    "    import dolfinx"
   ]
  },
  {
   "cell_type": "code",
   "execution_count": null,
   "id": "viskex_install",
   "metadata": {},
   "outputs": [],
   "source": [
    "try:\n",
    "    import viskex\n",
    "except ImportError:\n",
    "    !pip3 install \"viskex@git+https://github.com/viskex/viskex.git@46268f6\"\n",
    "    import viskex"
   ]
  },
  {
   "cell_type": "code",
   "execution_count": null,
   "id": "8cf91ae1",
   "metadata": {},
   "outputs": [],
   "source": [
    "try:\n",
    "    import gmsh\n",
    "except ImportError:\n",
    "    !wget \"https://github.com/fem-on-colab/fem-on-colab.github.io/raw/d8f9d63/releases/gmsh-install.sh\" -O \"/tmp/gmsh-install.sh\" && bash \"/tmp/gmsh-install.sh\"\n",
    "    import gmsh"
   ]
  },
  {
   "cell_type": "code",
   "execution_count": null,
   "id": "bb4163f7",
   "metadata": {},
   "outputs": [],
   "source": [
    "try:\n",
    "    import dolfinx\n",
    "except ImportError:\n",
    "    !wget \"https://github.com/fem-on-colab/fem-on-colab.github.io/raw/d8f9d63/releases/fenicsx-install-development-real.sh\" -O \"/tmp/fenicsx-install.sh\" && bash \"/tmp/fenicsx-install.sh\"\n",
    "    import dolfinx"
   ]
  },
  {
   "cell_type": "code",
   "execution_count": null,
   "id": "13d50cbf",
   "metadata": {},
   "outputs": [],
   "source": [
    "try:\n",
    "    import viskex\n",
    "except ImportError:\n",
    "    !pip3 install \"viskex@git+https://github.com/viskex/viskex.git@46268f6\"\n",
    "    import viskex"
   ]
  },
  {
   "cell_type": "code",
   "execution_count": null,
   "id": "545051d4",
   "metadata": {},
   "outputs": [],
   "source": [
    "try:\n",
    "    import gmsh\n",
    "except ImportError:\n",
    "    !wget \"https://github.com/fem-on-colab/fem-on-colab.github.io/raw/d8f9d63/releases/gmsh-install.sh\" -O \"/tmp/gmsh-install.sh\" && bash \"/tmp/gmsh-install.sh\"\n",
    "    import gmsh"
   ]
  },
  {
   "cell_type": "code",
   "execution_count": null,
   "id": "d2fdca89",
   "metadata": {},
   "outputs": [],
   "source": [
    "try:\n",
    "    import dolfinx\n",
    "except ImportError:\n",
    "    !wget \"https://github.com/fem-on-colab/fem-on-colab.github.io/raw/d8f9d63/releases/fenicsx-install-development-real.sh\" -O \"/tmp/fenicsx-install.sh\" && bash \"/tmp/fenicsx-install.sh\"\n",
    "    import dolfinx"
   ]
  },
  {
   "cell_type": "code",
   "execution_count": null,
   "id": "0dd726fa",
   "metadata": {},
   "outputs": [],
   "source": [
    "try:\n",
    "    import viskex\n",
    "except ImportError:\n",
    "    !pip3 install \"viskex@git+https://github.com/viskex/viskex.git@6efdd1b\"\n",
    "    import viskex"
   ]
  },
  {
   "cell_type": "code",
   "execution_count": null,
   "id": "7074cf5e",
   "metadata": {},
   "outputs": [],
   "source": [
    "try:\n",
    "    import gmsh\n",
    "except ImportError:\n",
    "    !wget \"https://github.com/fem-on-colab/fem-on-colab.github.io/raw/d8f9d63/releases/gmsh-install.sh\" -O \"/tmp/gmsh-install.sh\" && bash \"/tmp/gmsh-install.sh\"\n",
    "    import gmsh"
   ]
  },
  {
   "cell_type": "code",
   "execution_count": null,
   "id": "66bafa67",
   "metadata": {},
   "outputs": [],
   "source": [
    "try:\n",
    "    import dolfinx\n",
    "except ImportError:\n",
    "    !wget \"https://github.com/fem-on-colab/fem-on-colab.github.io/raw/d8f9d63/releases/fenicsx-install-development-real.sh\" -O \"/tmp/fenicsx-install.sh\" && bash \"/tmp/fenicsx-install.sh\"\n",
    "    import dolfinx"
   ]
  },
  {
   "cell_type": "code",
   "execution_count": null,
   "id": "e205ea51",
   "metadata": {},
   "outputs": [],
   "source": [
    "try:\n",
    "    import viskex\n",
    "except ImportError:\n",
    "    !pip3 install \"viskex@git+https://github.com/viskex/viskex.git@6efdd1b\"\n",
    "    import viskex"
   ]
  },
  {
   "cell_type": "code",
   "execution_count": null,
   "id": "54a852c8",
   "metadata": {},
   "outputs": [],
   "source": [
    "try:\n",
    "    import gmsh\n",
    "except ImportError:\n",
    "    !wget \"https://github.com/fem-on-colab/fem-on-colab.github.io/raw/d8f9d63/releases/gmsh-install.sh\" -O \"/tmp/gmsh-install.sh\" && bash \"/tmp/gmsh-install.sh\"\n",
    "    import gmsh"
   ]
  },
  {
   "cell_type": "code",
   "execution_count": null,
   "id": "a8d7e05e",
   "metadata": {},
   "outputs": [],
   "source": [
    "try:\n",
    "    import dolfinx\n",
    "except ImportError:\n",
    "    !wget \"https://github.com/fem-on-colab/fem-on-colab.github.io/raw/d8f9d63/releases/fenicsx-install-development-real.sh\" -O \"/tmp/fenicsx-install.sh\" && bash \"/tmp/fenicsx-install.sh\"\n",
    "    import dolfinx"
   ]
  },
  {
   "cell_type": "code",
   "execution_count": null,
   "id": "01b98d7d",
   "metadata": {},
   "outputs": [],
   "source": [
    "try:\n",
    "    import viskex\n",
    "except ImportError:\n",
    "    !pip3 install \"viskex@git+https://github.com/viskex/viskex.git@6efdd1b\"\n",
    "    import viskex"
   ]
  },
  {
   "cell_type": "code",
   "execution_count": null,
   "id": "608dbc3c",
   "metadata": {},
   "outputs": [],
   "source": [
    "try:\n",
    "    import gmsh\n",
    "except ImportError:\n",
    "    !wget \"https://github.com/fem-on-colab/fem-on-colab.github.io/raw/d8f9d63/releases/gmsh-install.sh\" -O \"/tmp/gmsh-install.sh\" && bash \"/tmp/gmsh-install.sh\"\n",
    "    import gmsh"
   ]
  },
  {
   "cell_type": "code",
   "execution_count": null,
   "id": "76c6d139",
   "metadata": {},
   "outputs": [],
   "source": [
    "try:\n",
    "    import dolfinx\n",
    "except ImportError:\n",
    "    !wget \"https://github.com/fem-on-colab/fem-on-colab.github.io/raw/d8f9d63/releases/fenicsx-install-development-real.sh\" -O \"/tmp/fenicsx-install.sh\" && bash \"/tmp/fenicsx-install.sh\"\n",
    "    import dolfinx"
   ]
  },
  {
   "cell_type": "code",
   "execution_count": null,
   "id": "5b6d5da6",
   "metadata": {},
   "outputs": [],
   "source": [
    "try:\n",
    "    import viskex\n",
    "except ImportError:\n",
    "    !pip3 install \"viskex@git+https://github.com/viskex/viskex.git@6efdd1b\"\n",
    "    import viskex"
   ]
  },
  {
   "cell_type": "code",
   "execution_count": null,
   "id": "6f27c0bb",
   "metadata": {},
   "outputs": [],
   "source": [
    "try:\n",
    "    import gmsh\n",
    "except ImportError:\n",
    "    !wget \"https://github.com/fem-on-colab/fem-on-colab.github.io/raw/d8f9d63/releases/gmsh-install.sh\" -O \"/tmp/gmsh-install.sh\" && bash \"/tmp/gmsh-install.sh\"\n",
    "    import gmsh"
   ]
  },
  {
   "cell_type": "code",
   "execution_count": null,
   "id": "6b02e526",
   "metadata": {},
   "outputs": [],
   "source": [
    "try:\n",
    "    import dolfinx\n",
    "except ImportError:\n",
    "    !wget \"https://github.com/fem-on-colab/fem-on-colab.github.io/raw/d8f9d63/releases/fenicsx-install-development-real.sh\" -O \"/tmp/fenicsx-install.sh\" && bash \"/tmp/fenicsx-install.sh\"\n",
    "    import dolfinx"
   ]
  },
  {
   "cell_type": "code",
   "execution_count": null,
   "id": "ef29bcab",
   "metadata": {},
   "outputs": [],
   "source": [
    "try:\n",
    "    import viskex\n",
    "except ImportError:\n",
    "    !pip3 install \"viskex@git+https://github.com/viskex/viskex.git@6efdd1b\"\n",
    "    import viskex"
   ]
  },
  {
   "cell_type": "code",
   "execution_count": null,
   "id": "93928712",
   "metadata": {},
   "outputs": [],
   "source": [
    "try:\n",
    "    import gmsh\n",
    "except ImportError:\n",
    "    !wget \"https://github.com/fem-on-colab/fem-on-colab.github.io/raw/d8f9d63/releases/gmsh-install.sh\" -O \"/tmp/gmsh-install.sh\" && bash \"/tmp/gmsh-install.sh\"\n",
    "    import gmsh"
   ]
  },
  {
   "cell_type": "code",
   "execution_count": null,
   "id": "b2f2a2dc",
   "metadata": {},
   "outputs": [],
   "source": [
    "try:\n",
    "    import dolfinx\n",
    "except ImportError:\n",
    "    !wget \"https://github.com/fem-on-colab/fem-on-colab.github.io/raw/d8f9d63/releases/fenicsx-install-development-real.sh\" -O \"/tmp/fenicsx-install.sh\" && bash \"/tmp/fenicsx-install.sh\"\n",
    "    import dolfinx"
   ]
  },
  {
   "cell_type": "code",
   "execution_count": null,
   "id": "fec24016",
   "metadata": {},
   "outputs": [],
   "source": [
    "try:\n",
    "    import viskex\n",
    "except ImportError:\n",
    "    !pip3 install \"viskex@git+https://github.com/viskex/viskex.git@6efdd1b\"\n",
    "    import viskex"
   ]
  },
  {
   "cell_type": "code",
   "execution_count": null,
   "id": "51908ca5",
   "metadata": {},
   "outputs": [],
   "source": [
    "try:\n",
    "    import gmsh\n",
    "except ImportError:\n",
    "    !wget \"https://github.com/fem-on-colab/fem-on-colab.github.io/raw/0ab4739/releases/gmsh-install.sh\" -O \"/tmp/gmsh-install.sh\" && bash \"/tmp/gmsh-install.sh\"\n",
    "    import gmsh"
   ]
  },
  {
   "cell_type": "code",
   "execution_count": null,
   "id": "fad0f7df",
   "metadata": {},
   "outputs": [],
   "source": [
    "try:\n",
    "    import dolfinx\n",
    "except ImportError:\n",
    "    !wget \"https://github.com/fem-on-colab/fem-on-colab.github.io/raw/0ab4739/releases/fenicsx-install-development-real.sh\" -O \"/tmp/fenicsx-install.sh\" && bash \"/tmp/fenicsx-install.sh\"\n",
    "    import dolfinx"
   ]
  },
  {
   "cell_type": "code",
   "execution_count": null,
   "id": "588e5417",
   "metadata": {},
   "outputs": [],
   "source": [
    "try:\n",
    "    import viskex\n",
    "except ImportError:\n",
    "    !pip3 install \"viskex@git+https://github.com/viskex/viskex.git@4198c5b\"\n",
    "    import viskex"
   ]
  },
  {
   "cell_type": "code",
   "execution_count": null,
   "id": "6a8a6f93",
   "metadata": {},
   "outputs": [],
   "source": [
    "try:\n",
    "    import gmsh\n",
    "except ImportError:\n",
    "    !wget \"https://github.com/fem-on-colab/fem-on-colab.github.io/raw/0ab4739/releases/gmsh-install.sh\" -O \"/tmp/gmsh-install.sh\" && bash \"/tmp/gmsh-install.sh\"\n",
    "    import gmsh"
   ]
  },
  {
   "cell_type": "code",
   "execution_count": null,
   "id": "ec51c4e5",
   "metadata": {},
   "outputs": [],
   "source": [
    "try:\n",
    "    import dolfinx\n",
    "except ImportError:\n",
    "    !wget \"https://github.com/fem-on-colab/fem-on-colab.github.io/raw/0ab4739/releases/fenicsx-install-development-real.sh\" -O \"/tmp/fenicsx-install.sh\" && bash \"/tmp/fenicsx-install.sh\"\n",
    "    import dolfinx"
   ]
  },
  {
   "cell_type": "code",
   "execution_count": null,
   "id": "40dcbc1f",
   "metadata": {},
   "outputs": [],
   "source": [
    "try:\n",
    "    import viskex\n",
    "except ImportError:\n",
    "    !pip3 install \"viskex@git+https://github.com/viskex/viskex.git@4198c5b\"\n",
    "    import viskex"
   ]
  },
  {
   "cell_type": "code",
   "execution_count": null,
   "id": "887fc9e0-440d-4385-8961-7598280885ac",
   "metadata": {},
   "outputs": [],
   "source": [
    "import dolfinx  # noqa: F401\n",
    "import gmsh\n",
    "import mpi4py.MPI"
   ]
  },
  {
   "cell_type": "code",
   "execution_count": null,
   "id": "826a288e-69d6-4d13-99d8-5bcef2c7047a",
   "metadata": {},
   "outputs": [],
   "source": [
    "import viskex"
   ]
  },
  {
   "cell_type": "code",
   "execution_count": null,
   "id": "41f2f87d-2713-41ca-b45b-bf9aa50847f6",
   "metadata": {},
   "outputs": [],
   "source": [
    "try:\n",
    "    import common_03_dolfinx as common\n",
    "except ImportError:\n",
    "    !wget https://github.com/viskex/viskex/raw/main/tutorials/03_high_order_meshes/common_03_none.py\n",
    "    !wget https://github.com/viskex/viskex/raw/main/tutorials/03_high_order_meshes/common_03_dolfinx.py\n",
    "    import common_03_dolfinx as common"
   ]
  },
  {
   "cell_type": "code",
   "execution_count": null,
   "id": "ef9bd75b-5df2-43a2-99c0-5db003c03ed7",
   "metadata": {},
   "outputs": [],
   "source": [
    "order = 1"
   ]
  },
  {
   "cell_type": "markdown",
   "id": "712f7cff-cd34-414a-ba45-02fdb5432b86",
   "metadata": {},
   "source": [
    "Create a mesh of the unit disk with the provided order."
   ]
  },
  {
   "cell_type": "code",
   "execution_count": null,
   "id": "01da4512-3733-408c-bdab-af1902be76ab",
   "metadata": {},
   "outputs": [],
   "source": [
    "gmsh.initialize()"
   ]
  },
  {
   "cell_type": "code",
   "execution_count": null,
   "id": "0b8851b5-ca1e-4983-aee8-a5b64077607b",
   "metadata": {},
   "outputs": [],
   "source": [
    "gmsh.option.setNumber(\"General.Verbosity\", 1)"
   ]
  },
  {
   "cell_type": "code",
   "execution_count": null,
   "id": "21495f9f-6b76-4aa0-ae77-882817fa4897",
   "metadata": {},
   "outputs": [],
   "source": [
    "mesh, cell_tags, facet_tags, vertex_tags = common.create_unit_disk(\n",
    "    mpi4py.MPI.COMM_WORLD, order=order, num_segments=3)"
   ]
  },
  {
   "cell_type": "code",
   "execution_count": null,
   "id": "15a852d9-8c82-4200-827e-223bcd3451f4",
   "metadata": {},
   "outputs": [],
   "source": [
    "gmsh.finalize()"
   ]
  },
  {
   "cell_type": "markdown",
   "id": "a3e06500-8b8e-48c8-a5cf-55bc8e7e9d54",
   "metadata": {},
   "source": [
    "Plot the mesh. Note that high order meshes appear more \"curved\" on the boundary of the circle."
   ]
  },
  {
   "cell_type": "code",
   "execution_count": null,
   "id": "4249f557-9e0a-4b6e-a30e-f70837d445e4",
   "metadata": {},
   "outputs": [],
   "source": [
    "viskex.dolfinx.plot_mesh(mesh)"
   ]
  },
  {
   "cell_type": "markdown",
   "id": "277afe80-c60b-4555-a4b7-9a692063f356",
   "metadata": {},
   "source": [
    "Plot mesh facets (i.e. segments), highlighting their nodes. Note how the high orderer meshes have additional nodes compared to first order meshes. For instance, a second order mesh has a node in the midpoint of each segment. Similarly, a third order mesh has two nodes on each segment and a node in the barycenter of the cell."
   ]
  },
  {
   "cell_type": "code",
   "execution_count": null,
   "id": "8d5fba6f-bcef-46ef-b26b-b96873a5b12c",
   "metadata": {},
   "outputs": [],
   "source": [
    "viskex.dolfinx.plot_mesh(mesh, dim=1, show_vertices=True)"
   ]
  },
  {
   "cell_type": "markdown",
   "id": "d79fce7e-268f-409c-94e5-14015c3f17d4",
   "metadata": {},
   "source": [
    "Plot mesh nodes. Note that high order meshes have more nodes than a first order one, as discussed above."
   ]
  },
  {
   "cell_type": "code",
   "execution_count": null,
   "id": "37fa4496-4c52-4c1a-8cf6-1b21affb79df",
   "metadata": {},
   "outputs": [],
   "source": [
    "viskex.dolfinx.plot_mesh(mesh, dim=0)"
   ]
  },
  {
   "cell_type": "markdown",
   "id": "1e240a82-a7d4-4b33-ab63-675be7ec033b",
   "metadata": {},
   "source": [
    "Plot the cell tags, identifying four subdomains."
   ]
  },
  {
   "cell_type": "code",
   "execution_count": null,
   "id": "955f275f-dc27-4e67-879c-9f8ecbf5c056",
   "metadata": {},
   "outputs": [],
   "source": [
    "viskex.dolfinx.plot_mesh_tags(mesh, cell_tags, \"Cell tags\")"
   ]
  },
  {
   "cell_type": "markdown",
   "id": "05ad3ae2-3d44-4836-9319-6d0be544d1f9",
   "metadata": {},
   "source": [
    "Plot the facet tags, identifying four boundaries and four interfaces."
   ]
  },
  {
   "cell_type": "code",
   "execution_count": null,
   "id": "faab4e3c-eb4c-4c9b-98b1-dc0f3c61a541",
   "metadata": {},
   "outputs": [],
   "source": [
    "viskex.dolfinx.plot_mesh_tags(mesh, facet_tags, \"Facet tags\")"
   ]
  },
  {
   "cell_type": "markdown",
   "id": "0388cc7a-85ab-4065-aa14-b2c7119284f5",
   "metadata": {},
   "source": [
    "Plot the vertex tags, identifying all vertices on the interfaces and the origin. Note that in high order meshes the high order nodes are *not* tagged."
   ]
  },
  {
   "cell_type": "code",
   "execution_count": null,
   "id": "f10b1821-5ed8-4a48-abc7-b18735ec376a",
   "metadata": {},
   "outputs": [],
   "source": [
    "if vertex_tags is not None:  # dolfinx < 0.10.0 does not read vertex tags\n",
    "    viskex.dolfinx.plot_mesh_tags(mesh, vertex_tags, \"Vertex tags\")"
   ]
  }
 ],
 "metadata": {
  "kernelspec": {
   "display_name": "Python 3 (ipykernel)",
   "language": "python",
   "name": "python3"
  },
  "language_info": {
   "codemirror_mode": {
    "name": "ipython"
   },
   "file_extension": ".py",
   "mimetype": "text/x-python",
   "name": "python",
   "nbconvert_exporter": "python"
  }
 },
 "nbformat": 4,
 "nbformat_minor": 5
}
