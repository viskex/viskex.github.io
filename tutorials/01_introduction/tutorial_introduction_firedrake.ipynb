{
 "cells": [
  {
   "cell_type": "code",
   "execution_count": null,
   "id": "firedrake_install",
   "metadata": {},
   "outputs": [],
   "source": [
    "try:\n",
    "    import firedrake\n",
    "except ImportError:\n",
    "    !wget \"https://github.com/fem-on-colab/fem-on-colab.github.io/raw/9088ab8/releases/firedrake-install-real.sh\" -O \"/tmp/firedrake-install.sh\" && bash \"/tmp/firedrake-install.sh\"\n",
    "    import firedrake"
   ]
  },
  {
   "cell_type": "code",
   "execution_count": null,
   "id": "viskex_install",
   "metadata": {},
   "outputs": [],
   "source": [
    "try:\n",
    "    import viskex\n",
    "except ImportError:\n",
    "    !pip3 install \"viskex@git+https://github.com/viskex/viskex.git@6c19b68\"\n",
    "    import viskex"
   ]
  },
  {
   "cell_type": "code",
   "execution_count": null,
   "id": "fc2db755-7add-4be7-a31f-5381c74e7bfa",
   "metadata": {},
   "outputs": [],
   "source": [
    "import typing"
   ]
  },
  {
   "cell_type": "code",
   "execution_count": null,
   "id": "e1d1a8f3",
   "metadata": {},
   "outputs": [],
   "source": [
    "import firedrake\n",
    "import numpy as np\n",
    "import ufl"
   ]
  },
  {
   "cell_type": "code",
   "execution_count": null,
   "id": "d989ef23-beac-434b-86a0-9d7b503100bb",
   "metadata": {},
   "outputs": [],
   "source": [
    "import viskex"
   ]
  },
  {
   "cell_type": "markdown",
   "id": "3c509030-0517-4678-95b7-cfaf0e627097",
   "metadata": {},
   "source": [
    "Generate and plot meshes"
   ]
  },
  {
   "cell_type": "code",
   "execution_count": null,
   "id": "d0cf45ab-4a89-4119-9501-d92abf719d10",
   "metadata": {},
   "outputs": [],
   "source": [
    "interval = firedrake.UnitIntervalMesh(6)\n",
    "square_tria = firedrake.UnitSquareMesh(3, 3, quadrilateral=False, diagonal=\"right\")\n",
    "square_quad = firedrake.UnitSquareMesh(3, 3, quadrilateral=True, diagonal=\"right\")\n",
    "cube_tetra = firedrake.UnitCubeMesh(3, 3, 3, hexahedral=False)\n",
    "cube_hexa = firedrake.UnitCubeMesh(3, 3, 3, hexahedral=True)"
   ]
  },
  {
   "cell_type": "code",
   "execution_count": null,
   "id": "ac896658-4335-471d-a99a-ec4a3d8c8030",
   "metadata": {},
   "outputs": [],
   "source": [
    "for mesh in (interval, square_tria, square_quad, cube_tetra, cube_hexa):\n",
    "    mesh.topology_dm.removeLabel(firedrake.cython.dmcommon.FACE_SETS_LABEL)\n",
    "del mesh"
   ]
  },
  {
   "cell_type": "code",
   "execution_count": null,
   "id": "2f42f2c8-e3dc-4b28-8fbd-57e5ae400450",
   "metadata": {},
   "outputs": [],
   "source": [
    "viskex.firedrake.plot_mesh(interval)"
   ]
  },
  {
   "cell_type": "code",
   "execution_count": null,
   "id": "c076fa88-3235-4441-9e28-0fc71cf24f26",
   "metadata": {},
   "outputs": [],
   "source": [
    "viskex.firedrake.plot_mesh(interval, dim=1)"
   ]
  },
  {
   "cell_type": "code",
   "execution_count": null,
   "id": "529cd086-ccd4-4fb9-89bb-f8f52f81fb8b",
   "metadata": {},
   "outputs": [],
   "source": [
    "viskex.firedrake.plot_mesh(interval, dim=0)"
   ]
  },
  {
   "cell_type": "code",
   "execution_count": null,
   "id": "d0f32944-d1eb-4ebf-921a-1d8cd9a576a0",
   "metadata": {},
   "outputs": [],
   "source": [
    "viskex.firedrake.plot_mesh(square_tria)"
   ]
  },
  {
   "cell_type": "code",
   "execution_count": null,
   "id": "afa823f3-f208-4080-be7c-fdb2faa24812",
   "metadata": {},
   "outputs": [],
   "source": [
    "viskex.firedrake.plot_mesh(square_tria, dim=2)"
   ]
  },
  {
   "cell_type": "code",
   "execution_count": null,
   "id": "d71b4431-3e71-4061-a135-bc66051b8c3a",
   "metadata": {},
   "outputs": [],
   "source": [
    "viskex.firedrake.plot_mesh(square_tria, dim=1)"
   ]
  },
  {
   "cell_type": "code",
   "execution_count": null,
   "id": "cd0419c3-59ac-4d04-b947-451ea11f1bf9",
   "metadata": {},
   "outputs": [],
   "source": [
    "viskex.firedrake.plot_mesh(square_tria, dim=0)"
   ]
  },
  {
   "cell_type": "code",
   "execution_count": null,
   "id": "bd0d8967-2705-42f0-be2a-209acac11bd9",
   "metadata": {},
   "outputs": [],
   "source": [
    "viskex.firedrake.plot_mesh(square_quad)"
   ]
  },
  {
   "cell_type": "code",
   "execution_count": null,
   "id": "e31e6424-784d-498b-8fe4-ea539cb19b4a",
   "metadata": {},
   "outputs": [],
   "source": [
    "viskex.firedrake.plot_mesh(square_quad, dim=2)"
   ]
  },
  {
   "cell_type": "code",
   "execution_count": null,
   "id": "a4210af1-35e8-4896-a33a-faadeeaa7675",
   "metadata": {},
   "outputs": [],
   "source": [
    "viskex.firedrake.plot_mesh(square_quad, dim=1)"
   ]
  },
  {
   "cell_type": "code",
   "execution_count": null,
   "id": "60811f25-3772-4ff3-af89-e8df453879b9",
   "metadata": {},
   "outputs": [],
   "source": [
    "viskex.firedrake.plot_mesh(square_quad, dim=0)"
   ]
  },
  {
   "cell_type": "code",
   "execution_count": null,
   "id": "7d733dd0-4f80-40da-930f-2b56f0034a9f",
   "metadata": {},
   "outputs": [],
   "source": [
    "viskex.firedrake.plot_mesh(cube_tetra)"
   ]
  },
  {
   "cell_type": "code",
   "execution_count": null,
   "id": "23608645-151e-4f97-ac62-08f4b89373a8",
   "metadata": {},
   "outputs": [],
   "source": [
    "viskex.firedrake.plot_mesh(cube_tetra, dim=3)"
   ]
  },
  {
   "cell_type": "code",
   "execution_count": null,
   "id": "7802e5bc-03ad-40e8-9cd4-cb553fa3a87a",
   "metadata": {},
   "outputs": [],
   "source": [
    "viskex.firedrake.plot_mesh(cube_tetra, dim=2)"
   ]
  },
  {
   "cell_type": "code",
   "execution_count": null,
   "id": "9a1c62ad-d2a5-4e21-87f5-ea85a3d21c16",
   "metadata": {},
   "outputs": [],
   "source": [
    "viskex.firedrake.plot_mesh(cube_tetra, dim=1)"
   ]
  },
  {
   "cell_type": "code",
   "execution_count": null,
   "id": "75d8426f-5701-410b-bea3-a88eb9f55dd8",
   "metadata": {},
   "outputs": [],
   "source": [
    "viskex.firedrake.plot_mesh(cube_tetra, dim=0)"
   ]
  },
  {
   "cell_type": "code",
   "execution_count": null,
   "id": "34a3480a-d2eb-4bec-af7b-d0047cfd9f34",
   "metadata": {},
   "outputs": [],
   "source": [
    "viskex.firedrake.plot_mesh(cube_hexa)"
   ]
  },
  {
   "cell_type": "code",
   "execution_count": null,
   "id": "1015634e-1549-4ca8-97aa-5e581c09d833",
   "metadata": {},
   "outputs": [],
   "source": [
    "viskex.firedrake.plot_mesh(cube_hexa, dim=3)"
   ]
  },
  {
   "cell_type": "code",
   "execution_count": null,
   "id": "0f6f135b-00cf-4ab6-8057-111768755d0f",
   "metadata": {},
   "outputs": [],
   "source": [
    "viskex.firedrake.plot_mesh(cube_hexa, dim=2)"
   ]
  },
  {
   "cell_type": "code",
   "execution_count": null,
   "id": "ffa9bd25-9e5a-4995-a7f2-0ed520f1a1ae",
   "metadata": {},
   "outputs": [],
   "source": [
    "viskex.firedrake.plot_mesh(cube_hexa, dim=1)"
   ]
  },
  {
   "cell_type": "code",
   "execution_count": null,
   "id": "5322db7e-8272-45a8-858b-017395a50ba3",
   "metadata": {},
   "outputs": [],
   "source": [
    "viskex.firedrake.plot_mesh(cube_hexa, dim=0)"
   ]
  },
  {
   "cell_type": "markdown",
   "id": "5c6af58c-dbf5-4eb3-827d-265fd75a644b",
   "metadata": {},
   "source": [
    "Generate and plot subdomains"
   ]
  },
  {
   "cell_type": "code",
   "execution_count": null,
   "id": "dbe2d34f-433a-4913-bdb0-28046e5e279a",
   "metadata": {},
   "outputs": [],
   "source": [
    "def mark_subdomains(mesh: firedrake.MeshGeometry) -> firedrake.MeshGeometry:  # type: ignore[no-any-unimported]\n",
    "    \"\"\"Mark left and right subdomains in a given mesh with values 1 and 2, respectively.\"\"\"\n",
    "    cellname = mesh.ufl_cell().cellname()\n",
    "    if cellname in (\"interval\", \"triangle\", \"tetrahedron\"):\n",
    "        subdomains_function_space = firedrake.FunctionSpace(mesh, \"DP\", 0)\n",
    "    elif cellname in (\"quadrilateral\", \"hexahedron\"):\n",
    "        subdomains_function_space = firedrake.FunctionSpace(mesh, \"DQ\", 0)\n",
    "    else:\n",
    "        raise RuntimeError(\"Invalid cellname\")\n",
    "    x = firedrake.SpatialCoordinate(mesh)\n",
    "    left_subdomain = firedrake.Function(subdomains_function_space).interpolate(\n",
    "        firedrake.conditional(x[0] <= 1.0 / 3.0, 1.0, 0.0))\n",
    "    right_subdomain = firedrake.Function(subdomains_function_space).interpolate(\n",
    "        firedrake.conditional(x[0] >= 2.0 / 3.0, 1.0, 0.0))\n",
    "    mesh_with_subdomains = firedrake.RelabeledMesh(mesh, [left_subdomain, right_subdomain], [1, 2])\n",
    "    mesh_with_subdomains.init()\n",
    "    return mesh_with_subdomains"
   ]
  },
  {
   "cell_type": "code",
   "execution_count": null,
   "id": "cec54061-d19c-47a7-8451-69c2816b5b1b",
   "metadata": {},
   "outputs": [],
   "source": [
    "interval_with_subdomains = mark_subdomains(interval)\n",
    "square_tria_with_subdomains = mark_subdomains(square_tria)\n",
    "square_quad_with_subdomains = mark_subdomains(square_quad)\n",
    "cube_tetra_with_subdomains = mark_subdomains(cube_tetra)\n",
    "cube_hexa_with_subdomains = mark_subdomains(cube_hexa)"
   ]
  },
  {
   "cell_type": "code",
   "execution_count": null,
   "id": "19f6aacc-7f36-406d-8192-717a554d8777",
   "metadata": {},
   "outputs": [],
   "source": [
    "viskex.firedrake.plot_mesh_entities(\n",
    "    interval_with_subdomains, 1, \"subdomains\", interval_with_subdomains.cell_subset(2).indices\n",
    ")"
   ]
  },
  {
   "cell_type": "code",
   "execution_count": null,
   "id": "e314919b-d598-4c48-a276-5ddd34a625ec",
   "metadata": {},
   "outputs": [],
   "source": [
    "viskex.firedrake.plot_mesh_entities(\n",
    "    interval_with_subdomains, 1, \"subdomains\", interval_with_subdomains.cell_subset(2).indices,\n",
    "    2 * np.ones_like(interval_with_subdomains.cell_subset(2).indices)\n",
    ")"
   ]
  },
  {
   "cell_type": "code",
   "execution_count": null,
   "id": "21eb02f3-0c5f-41bf-8daa-629f2610c770",
   "metadata": {},
   "outputs": [],
   "source": [
    "viskex.firedrake.plot_mesh_sets(interval_with_subdomains, 1, \"subdomains\")"
   ]
  },
  {
   "cell_type": "code",
   "execution_count": null,
   "id": "1f44122a-c2e5-4593-aa58-933058c0447c",
   "metadata": {},
   "outputs": [],
   "source": [
    "viskex.firedrake.plot_mesh_entities(\n",
    "    square_tria_with_subdomains, 2, \"subdomains\", square_tria_with_subdomains.cell_subset(2).indices\n",
    ")"
   ]
  },
  {
   "cell_type": "code",
   "execution_count": null,
   "id": "a25aeac3-88a1-47c3-8cae-ddac8f40a0e1",
   "metadata": {},
   "outputs": [],
   "source": [
    "viskex.firedrake.plot_mesh_entities(\n",
    "    square_tria_with_subdomains, 2, \"subdomains\", square_tria_with_subdomains.cell_subset(2).indices,\n",
    "    2 * np.ones_like(square_tria_with_subdomains.cell_subset(2).indices)\n",
    ")"
   ]
  },
  {
   "cell_type": "code",
   "execution_count": null,
   "id": "b504bdc3-e452-42b4-bad2-c8ba75ae629b",
   "metadata": {},
   "outputs": [],
   "source": [
    "viskex.firedrake.plot_mesh_sets(square_tria_with_subdomains, 2, \"subdomains\")"
   ]
  },
  {
   "cell_type": "code",
   "execution_count": null,
   "id": "a352341e-21ea-47d0-8090-c0c4ac1d422c",
   "metadata": {},
   "outputs": [],
   "source": [
    "viskex.firedrake.plot_mesh_sets(square_quad_with_subdomains, 2, \"subdomains\")"
   ]
  },
  {
   "cell_type": "code",
   "execution_count": null,
   "id": "9270b02e-e385-4e72-ba77-d1d0ec8a9f5d",
   "metadata": {},
   "outputs": [],
   "source": [
    "viskex.firedrake.plot_mesh_sets(cube_tetra_with_subdomains, 3, \"subdomains\")"
   ]
  },
  {
   "cell_type": "code",
   "execution_count": null,
   "id": "7dd221ae-0db5-4d2e-b827-d33115e330b1",
   "metadata": {},
   "outputs": [],
   "source": [
    "viskex.firedrake.plot_mesh_sets(cube_hexa_with_subdomains, 3, \"subdomains\")"
   ]
  },
  {
   "cell_type": "markdown",
   "id": "4c6c09d1-73e5-4e25-98fb-4d6766e9d0fb",
   "metadata": {},
   "source": [
    "Generate and plot boundaries"
   ]
  },
  {
   "cell_type": "code",
   "execution_count": null,
   "id": "1f290849-1543-43cc-80de-e6c2556f9e9f",
   "metadata": {},
   "outputs": [],
   "source": [
    "def mark_boundaries(mesh: firedrake.MeshGeometry) -> firedrake.MeshGeometry:  # type: ignore[no-any-unimported]\n",
    "    \"\"\"\n",
    "    Mark internal and boundary facets in a given mesh with four different values.\n",
    "\n",
    "    Internal facets of left and right subdomains are associated with values 1 and 2, respectively.\n",
    "    Furthermore, boundary facets on the left and right boundaries are associated with values 3 and 4,\n",
    "    respectively.\n",
    "    \"\"\"\n",
    "    cellname = mesh.ufl_cell().cellname()\n",
    "    if cellname in (\"interval\", ):\n",
    "        boundaries_function_space = firedrake.FunctionSpace(mesh, \"P\", 1)\n",
    "    elif cellname in (\"triangle\", \"quadrilateral\", \"tetrahedron\", \"hexahedron\"):\n",
    "        boundaries_function_space = firedrake.FunctionSpace(mesh, \"HDiv Trace\", 0)\n",
    "    else:\n",
    "        raise RuntimeError(\"Invalid cellname\")\n",
    "    x = firedrake.SpatialCoordinate(mesh)\n",
    "    left_boundary = firedrake.Function(boundaries_function_space).interpolate(\n",
    "        firedrake.conditional(abs(x[0] - 0.) < np.sqrt(np.finfo(float).eps), 1.0, 0.0))\n",
    "    right_boundary = firedrake.Function(boundaries_function_space).interpolate(\n",
    "        firedrake.conditional(abs(x[0] - 1.) < np.sqrt(np.finfo(float).eps), 1.0, 0.0))\n",
    "    left_subdomain = firedrake.Function(boundaries_function_space).interpolate(\n",
    "        firedrake.conditional(\n",
    "            firedrake.And(x[0] <= 1.0 / 3.0, abs(x[0] - 0.) > np.sqrt(np.finfo(float).eps)), 1.0, 0.0))\n",
    "    right_subdomain = firedrake.Function(boundaries_function_space).interpolate(\n",
    "        firedrake.conditional(\n",
    "            firedrake.And(x[0] >= 2.0 / 3.0, abs(x[0] - 1.) > np.sqrt(np.finfo(float).eps)), 1.0, 0.0))\n",
    "    mesh_with_boundaries = firedrake.RelabeledMesh(\n",
    "        mesh, [left_boundary, right_boundary, left_subdomain, right_subdomain], [3, 4, 1, 2])\n",
    "    mesh_with_boundaries.init()\n",
    "    return mesh_with_boundaries"
   ]
  },
  {
   "cell_type": "code",
   "execution_count": null,
   "id": "54227b8d-20ae-460d-ab31-89d6d8cd2c1f",
   "metadata": {},
   "outputs": [],
   "source": [
    "interval_with_boundaries = mark_boundaries(interval)\n",
    "square_tria_with_boundaries = mark_boundaries(square_tria)\n",
    "square_quad_with_boundaries = mark_boundaries(square_quad)\n",
    "cube_tetra_with_boundaries = mark_boundaries(cube_tetra)\n",
    "# cube_hexa_with_boundaries = mark_boundaries(cube_hexa)  # HDiv not implemented"
   ]
  },
  {
   "cell_type": "code",
   "execution_count": null,
   "id": "907790c7-6fc0-4a2f-9718-095af43385b5",
   "metadata": {},
   "outputs": [],
   "source": [
    "viskex.firedrake.plot_mesh_entities(\n",
    "    interval_with_boundaries, 0, \"boundaries\",\n",
    "    interval_with_boundaries.exterior_facets.measure_set(\"exterior_facet\", 4).indices\n",
    ")"
   ]
  },
  {
   "cell_type": "code",
   "execution_count": null,
   "id": "d5ae19b0-904f-4a07-9f32-8514a60443e9",
   "metadata": {},
   "outputs": [],
   "source": [
    "viskex.firedrake.plot_mesh_entities(\n",
    "    interval_with_boundaries, 0, \"boundaries\",\n",
    "    interval_with_boundaries.exterior_facets.measure_set(\"exterior_facet\", \"everywhere\").size\n",
    "    + interval_with_boundaries.interior_facets.measure_set(\"interior_facet\", 2).indices\n",
    ")"
   ]
  },
  {
   "cell_type": "code",
   "execution_count": null,
   "id": "fd3e4d1c-67ea-4887-89d0-4243ed630942",
   "metadata": {},
   "outputs": [],
   "source": [
    "viskex.firedrake.plot_mesh_sets(interval_with_boundaries, 0, \"boundaries\")"
   ]
  },
  {
   "cell_type": "code",
   "execution_count": null,
   "id": "5b89d58e-412b-45a8-929b-4fce25ac6586",
   "metadata": {},
   "outputs": [],
   "source": [
    "viskex.firedrake.plot_mesh_entities(\n",
    "    square_tria_with_boundaries, 1, \"boundaries\",\n",
    "    square_tria_with_boundaries.exterior_facets.measure_set(\"exterior_facet\", 4).indices\n",
    ")"
   ]
  },
  {
   "cell_type": "code",
   "execution_count": null,
   "id": "1350e9bf-5f86-4f37-ba71-181693af0355",
   "metadata": {},
   "outputs": [],
   "source": [
    "viskex.firedrake.plot_mesh_entities(\n",
    "    square_tria_with_boundaries, 1, \"boundaries\",\n",
    "    square_tria_with_boundaries.exterior_facets.measure_set(\"exterior_facet\", \"everywhere\").size\n",
    "    + square_tria_with_boundaries.interior_facets.measure_set(\"interior_facet\", 2).indices\n",
    ")"
   ]
  },
  {
   "cell_type": "code",
   "execution_count": null,
   "id": "fffe02e5-4943-41c7-b3e1-b2f199609871",
   "metadata": {},
   "outputs": [],
   "source": [
    "viskex.firedrake.plot_mesh_sets(square_tria_with_boundaries, 1, \"boundaries\")"
   ]
  },
  {
   "cell_type": "code",
   "execution_count": null,
   "id": "20663133-004d-4207-a6cd-a5cac8cddbf6",
   "metadata": {},
   "outputs": [],
   "source": [
    "viskex.firedrake.plot_mesh_sets(square_quad_with_boundaries, 1, \"boundaries\")"
   ]
  },
  {
   "cell_type": "code",
   "execution_count": null,
   "id": "8e7b48d6-0954-4413-8a27-b177ef9ab190",
   "metadata": {},
   "outputs": [],
   "source": [
    "viskex.firedrake.plot_mesh_sets(cube_tetra_with_boundaries, 2, \"boundaries\")"
   ]
  },
  {
   "cell_type": "markdown",
   "id": "a1053589-0faa-4e31-9b6a-bbec8b7464c1",
   "metadata": {},
   "source": [
    "Interpolate and plot scalar functions"
   ]
  },
  {
   "cell_type": "code",
   "execution_count": null,
   "id": "7aeedd87-254b-4246-b89b-989c5ce55aac",
   "metadata": {},
   "outputs": [],
   "source": [
    "def prepare_scalar_field_cases(  # type: ignore[no-any-unimported]\n",
    "    mesh: firedrake.Mesh,\n",
    "    expression: typing.Callable[[ufl.core.expr.Expr], ufl.core.expr.Expr]\n",
    ") -> typing.Tuple[firedrake.Function, typing.Tuple[ufl.core.expr.Expr, ufl.FunctionSpace]]:\n",
    "    \"\"\"Prepare scalar field cases.\"\"\"\n",
    "    scalar_function_space = firedrake.FunctionSpace(mesh, \"CG\", 2)\n",
    "    scalar_field_ufl = expression(ufl.SpatialCoordinate(mesh))\n",
    "    scalar_field = firedrake.interpolate(scalar_field_ufl, scalar_function_space)\n",
    "    return scalar_field, (scalar_field_ufl, scalar_function_space)"
   ]
  },
  {
   "cell_type": "code",
   "execution_count": null,
   "id": "0ae4defe-28d5-4da6-88d5-f0f2dd96ff63",
   "metadata": {},
   "outputs": [],
   "source": [
    "interval_scalar_field, interval_scalar_field_ufl = prepare_scalar_field_cases(\n",
    "    interval, lambda x: x[0]**3)\n",
    "square_tria_scalar_field, square_tria_scalar_field_ufl = prepare_scalar_field_cases(\n",
    "    square_tria, lambda x: x[0]**3 + x[1]**2)\n",
    "square_quad_scalar_field, square_quad_scalar_field_ufl = prepare_scalar_field_cases(\n",
    "    square_quad, lambda x: x[0]**3 + x[1]**2)\n",
    "cube_tetra_scalar_field, cube_tetra_scalar_field_ufl = prepare_scalar_field_cases(\n",
    "    cube_tetra, lambda x: x[0]**3 + x[1]**2 + x[2]**4)\n",
    "cube_hexa_scalar_field, cube_hexa_scalar_field_ufl = prepare_scalar_field_cases(\n",
    "    cube_hexa, lambda x: x[0]**3 + x[1]**2 + x[2]**4)"
   ]
  },
  {
   "cell_type": "code",
   "execution_count": null,
   "id": "0e093186-0201-47a1-b6ad-77375571b353",
   "metadata": {},
   "outputs": [],
   "source": [
    "viskex.firedrake.plot_scalar_field(interval_scalar_field, \"scalar\")"
   ]
  },
  {
   "cell_type": "code",
   "execution_count": null,
   "id": "ab502005-103c-4098-9a23-92c3481da147",
   "metadata": {},
   "outputs": [],
   "source": [
    "viskex.firedrake.plot_scalar_field(interval_scalar_field_ufl, \"scalar\")"
   ]
  },
  {
   "cell_type": "code",
   "execution_count": null,
   "id": "df051395-f0ab-4694-a3ab-89f1aa1158f4",
   "metadata": {},
   "outputs": [],
   "source": [
    "viskex.firedrake.plot_scalar_field(square_tria_scalar_field, \"scalar\")"
   ]
  },
  {
   "cell_type": "code",
   "execution_count": null,
   "id": "5a6c96c9-a634-481c-a186-a269bfb5a140",
   "metadata": {},
   "outputs": [],
   "source": [
    "viskex.firedrake.plot_scalar_field(square_tria_scalar_field, \"scalar\", warp_factor=1.0)"
   ]
  },
  {
   "cell_type": "code",
   "execution_count": null,
   "id": "85434848-2150-4416-8c8c-633e29f4997b",
   "metadata": {},
   "outputs": [],
   "source": [
    "viskex.firedrake.plot_scalar_field(square_tria_scalar_field_ufl, \"scalar\")"
   ]
  },
  {
   "cell_type": "code",
   "execution_count": null,
   "id": "254574dc-132e-4d8d-80a5-84cc7f186026",
   "metadata": {},
   "outputs": [],
   "source": [
    "viskex.firedrake.plot_scalar_field(square_quad_scalar_field, \"scalar\")"
   ]
  },
  {
   "cell_type": "code",
   "execution_count": null,
   "id": "d02ddce9-591e-4b0b-93fc-618e36d82744",
   "metadata": {},
   "outputs": [],
   "source": [
    "viskex.firedrake.plot_scalar_field(square_quad_scalar_field, \"scalar\", warp_factor=1.0)"
   ]
  },
  {
   "cell_type": "code",
   "execution_count": null,
   "id": "2d8555e7-78a0-4a8f-ac11-b9d87c9ac14b",
   "metadata": {},
   "outputs": [],
   "source": [
    "viskex.firedrake.plot_scalar_field(square_quad_scalar_field_ufl, \"scalar\")"
   ]
  },
  {
   "cell_type": "code",
   "execution_count": null,
   "id": "05073f5c-169a-4517-8f73-c65950034d72",
   "metadata": {},
   "outputs": [],
   "source": [
    "viskex.firedrake.plot_scalar_field(cube_tetra_scalar_field, \"scalar\")"
   ]
  },
  {
   "cell_type": "code",
   "execution_count": null,
   "id": "dfac674a-aeca-4148-ae53-2c8b31882ced",
   "metadata": {},
   "outputs": [],
   "source": [
    "viskex.firedrake.plot_scalar_field(cube_tetra_scalar_field_ufl, \"scalar\")"
   ]
  },
  {
   "cell_type": "code",
   "execution_count": null,
   "id": "b5ff6496-03dc-405c-b21a-836954802e8e",
   "metadata": {},
   "outputs": [],
   "source": [
    "viskex.firedrake.plot_scalar_field(cube_hexa_scalar_field, \"scalar\")"
   ]
  },
  {
   "cell_type": "code",
   "execution_count": null,
   "id": "65c07cd3-59f5-4c71-bd7a-ac4526509423",
   "metadata": {},
   "outputs": [],
   "source": [
    "viskex.firedrake.plot_scalar_field(cube_hexa_scalar_field_ufl, \"scalar\")"
   ]
  },
  {
   "cell_type": "markdown",
   "id": "93f07449-6d85-4534-9fd5-eb4a0026afb5",
   "metadata": {},
   "source": [
    "Interpolate and plot vector functions"
   ]
  },
  {
   "cell_type": "code",
   "execution_count": null,
   "id": "164d4199-7532-4006-84a6-351a052e7f29",
   "metadata": {},
   "outputs": [],
   "source": [
    "def prepare_vector_field_cases(  # type: ignore[no-any-unimported]\n",
    "    mesh: firedrake.Mesh,\n",
    "    expression: typing.Callable[[ufl.core.expr.Expr], ufl.core.expr.Expr]\n",
    ") -> typing.Tuple[firedrake.Function, typing.Tuple[ufl.core.expr.Expr, ufl.FunctionSpace]]:\n",
    "    \"\"\"Prepare vector field cases.\"\"\"\n",
    "    vector_function_space = firedrake.VectorFunctionSpace(mesh, \"CG\", 2)\n",
    "    vector_field_ufl = ufl.as_vector(expression(ufl.SpatialCoordinate(mesh)))\n",
    "    vector_field = firedrake.interpolate(vector_field_ufl, vector_function_space)\n",
    "    return vector_field, (vector_field_ufl, vector_function_space)"
   ]
  },
  {
   "cell_type": "code",
   "execution_count": null,
   "id": "5fab08b7-7348-4910-bdeb-d497d4bfc1f7",
   "metadata": {},
   "outputs": [],
   "source": [
    "square_tria_vector_field, square_tria_vector_field_ufl = prepare_vector_field_cases(\n",
    "    square_tria, lambda x: (x[0]**3 + x[1]**2, x[0]**5 + x[1]**4))\n",
    "square_quad_vector_field, square_quad_vector_field_ufl = prepare_vector_field_cases(\n",
    "    square_quad, lambda x: (x[0]**3 + x[1]**2, x[0]**5 + x[1]**4))\n",
    "cube_tetra_vector_field, cube_tetra_vector_field_ufl = prepare_vector_field_cases(\n",
    "    cube_tetra, lambda x: (x[0]**3 + x[1]**2 + x[2]**4, x[0]**6 + x[1]**5 + x[2]**7, x[0]**9 + x[1]**8 + x[2]**10))\n",
    "cube_hexa_vector_field, cube_hexa_vector_field_ufl = prepare_vector_field_cases(\n",
    "    cube_hexa, lambda x: (x[0]**3 + x[1]**2 + x[2]**4, x[0]**6 + x[1]**5 + x[2]**7, x[0]**9 + x[1]**8 + x[2]**10))"
   ]
  },
  {
   "cell_type": "code",
   "execution_count": null,
   "id": "a70c810c-d7a7-4bf7-9788-ae9e4f101b11",
   "metadata": {},
   "outputs": [],
   "source": [
    "viskex.firedrake.plot_vector_field(square_tria_vector_field, \"vector\")"
   ]
  },
  {
   "cell_type": "code",
   "execution_count": null,
   "id": "8100f014-6ff5-4757-b8ff-eb00f1086374",
   "metadata": {},
   "outputs": [],
   "source": [
    "viskex.firedrake.plot_vector_field(square_tria_vector_field, \"vector\", glyph_factor=0.1)"
   ]
  },
  {
   "cell_type": "code",
   "execution_count": null,
   "id": "1375191c-4dc0-4bec-8cdc-916f82997202",
   "metadata": {},
   "outputs": [],
   "source": [
    "viskex.firedrake.plot_vector_field(square_tria_vector_field, \"vector\", warp_factor=1.0)"
   ]
  },
  {
   "cell_type": "code",
   "execution_count": null,
   "id": "50c107f7-8665-4c3a-bd12-b43c1fe5b88d",
   "metadata": {},
   "outputs": [],
   "source": [
    "viskex.firedrake.plot_vector_field(square_tria_vector_field_ufl, \"vector\")"
   ]
  },
  {
   "cell_type": "code",
   "execution_count": null,
   "id": "4579a8f5-a8e6-4346-980d-5f79a911c58d",
   "metadata": {},
   "outputs": [],
   "source": [
    "viskex.firedrake.plot_vector_field(square_quad_vector_field, \"vector\")"
   ]
  },
  {
   "cell_type": "code",
   "execution_count": null,
   "id": "00a70b32-39de-44b2-a11d-30a0ccd2177f",
   "metadata": {},
   "outputs": [],
   "source": [
    "viskex.firedrake.plot_vector_field(square_quad_vector_field, \"vector\", glyph_factor=0.1)"
   ]
  },
  {
   "cell_type": "code",
   "execution_count": null,
   "id": "0fd44011-8740-4c2f-a46c-eb06a2d7364e",
   "metadata": {},
   "outputs": [],
   "source": [
    "viskex.firedrake.plot_vector_field(square_quad_vector_field, \"vector\", glyph_factor=0.1)"
   ]
  },
  {
   "cell_type": "code",
   "execution_count": null,
   "id": "c945097f-9f0b-4bb1-9e60-80d06d152a8e",
   "metadata": {},
   "outputs": [],
   "source": [
    "viskex.firedrake.plot_vector_field(square_quad_vector_field, \"vector\", warp_factor=1.0)"
   ]
  },
  {
   "cell_type": "code",
   "execution_count": null,
   "id": "22eb6183-01da-4d27-8d8c-5dd71ec88c43",
   "metadata": {},
   "outputs": [],
   "source": [
    "viskex.firedrake.plot_vector_field(cube_tetra_vector_field, \"vector\")"
   ]
  },
  {
   "cell_type": "code",
   "execution_count": null,
   "id": "07256114-e6a7-484b-9c07-5f58068897c1",
   "metadata": {},
   "outputs": [],
   "source": [
    "viskex.firedrake.plot_vector_field(cube_tetra_vector_field, \"vector\", glyph_factor=0.1)"
   ]
  },
  {
   "cell_type": "code",
   "execution_count": null,
   "id": "091737c2-b7f2-4c06-b6f1-4b5503ac6d9f",
   "metadata": {},
   "outputs": [],
   "source": [
    "viskex.firedrake.plot_vector_field(cube_tetra_vector_field, \"vector\", warp_factor=1.0)"
   ]
  },
  {
   "cell_type": "code",
   "execution_count": null,
   "id": "5c1315c4-77ca-4cc8-8033-b60f771c6d9c",
   "metadata": {},
   "outputs": [],
   "source": [
    "viskex.firedrake.plot_vector_field(cube_hexa_vector_field, \"vector\")"
   ]
  },
  {
   "cell_type": "code",
   "execution_count": null,
   "id": "42916611-262f-4088-b7d2-8cbeb05424ef",
   "metadata": {},
   "outputs": [],
   "source": [
    "viskex.firedrake.plot_vector_field(cube_hexa_vector_field, \"vector\", glyph_factor=0.1)"
   ]
  },
  {
   "cell_type": "code",
   "execution_count": null,
   "id": "f9304017-7fe2-4fb2-90f9-d07c1fb7569e",
   "metadata": {},
   "outputs": [],
   "source": [
    "viskex.firedrake.plot_vector_field(cube_hexa_vector_field, \"vector\", warp_factor=1.0)"
   ]
  }
 ],
 "metadata": {
  "kernelspec": {
   "display_name": "Python 3 (ipykernel)",
   "language": "python",
   "name": "python3"
  },
  "language_info": {
   "codemirror_mode": {
    "name": "ipython"
   },
   "file_extension": ".py",
   "mimetype": "text/x-python",
   "name": "python",
   "nbconvert_exporter": "python"
  }
 },
 "nbformat": 4,
 "nbformat_minor": 5
}
