{
 "cells": [
  {
   "cell_type": "code",
   "execution_count": null,
   "id": "ngsolve_install",
   "metadata": {},
   "outputs": [],
   "source": [
    "try:\n",
    "    import ngsolve\n",
    "except ImportError:\n",
    "    !wget \"https://github.com/fem-on-kaggle/fem-on-kaggle.github.io/raw/b9be64e/releases/ngsolve-install.sh\" -O \"/tmp/ngsolve-install.sh\" && bash \"/tmp/ngsolve-install.sh\"\n",
    "    import ngsolve"
   ]
  },
  {
   "cell_type": "code",
   "execution_count": null,
   "id": "firedrake_install",
   "metadata": {},
   "outputs": [],
   "source": [
    "try:\n",
    "    import firedrake\n",
    "except ImportError:\n",
    "    !wget \"https://github.com/fem-on-kaggle/fem-on-kaggle.github.io/raw/b9be64e/releases/firedrake-install-real.sh\" -O \"/tmp/firedrake-install.sh\" && bash \"/tmp/firedrake-install.sh\"\n",
    "    import firedrake"
   ]
  },
  {
   "cell_type": "code",
   "execution_count": null,
   "id": "viskex_install",
   "metadata": {},
   "outputs": [],
   "source": [
    "try:\n",
    "    import viskex\n",
    "except ImportError:\n",
    "    !pip3 install \"viskex@git+https://github.com/viskex/viskex.git@68ec146\"\n",
    "    import viskex"
   ]
  },
  {
   "cell_type": "code",
   "execution_count": null,
   "id": "57378a31-3c03-41fc-9df2-91e587b07817",
   "metadata": {},
   "outputs": [],
   "source": [
    "import typing"
   ]
  },
  {
   "cell_type": "code",
   "execution_count": null,
   "id": "e1d1a8f3",
   "metadata": {},
   "outputs": [],
   "source": [
    "import firedrake\n",
    "import netgen.csg\n",
    "import netgen.geom2d\n",
    "import numpy as np\n",
    "import ufl"
   ]
  },
  {
   "cell_type": "code",
   "execution_count": null,
   "id": "d989ef23-beac-434b-86a0-9d7b503100bb",
   "metadata": {},
   "outputs": [],
   "source": [
    "import viskex"
   ]
  },
  {
   "cell_type": "markdown",
   "id": "3c509030-0517-4678-95b7-cfaf0e627097",
   "metadata": {},
   "source": [
    "Generate and plot meshes"
   ]
  },
  {
   "cell_type": "code",
   "execution_count": null,
   "id": "d0cf45ab-4a89-4119-9501-d92abf719d10",
   "metadata": {},
   "outputs": [],
   "source": [
    "geo = netgen.geom2d.SplineGeometry()\n",
    "geo.AddRectangle(p1=(-1.0, -1.0), p2=(1.0, 1.0), bc=\"rectangle\", leftdomain=1, rightdomain=0)\n",
    "geo.AddCircle(c=(0.0, 0.0), r=0.5, bc=\"circle\", leftdomain=2, rightdomain=1)\n",
    "geo.SetMaterial(1, \"outer\")\n",
    "geo.SetMaterial(2, \"inner\")\n",
    "geo.SetDomainMaxH(2, 0.02)\n",
    "mesh_2d = firedrake.Mesh(geo.GenerateMesh(maxh=0.1))\n",
    "del geo"
   ]
  },
  {
   "cell_type": "code",
   "execution_count": null,
   "id": "753f9b24-7b33-447d-9147-e4a4bb574540",
   "metadata": {},
   "outputs": [],
   "source": [
    "left = netgen.csg.Plane(netgen.csg.Pnt(0.0, 0.0, 0.0), netgen.csg.Vec(-1.0, 0.0, 0.0))\n",
    "right = netgen.csg.Plane(netgen.csg.Pnt(1.0, 1.0, 1.0), netgen.csg.Vec(1.0, 0.0, 0.0))\n",
    "front = netgen.csg.Plane(netgen.csg.Pnt(0.0, 0.0, 0.0), netgen.csg.Vec(0.0, -1.0, 0.0))\n",
    "back = netgen.csg.Plane(netgen.csg.Pnt(1.0, 1.0, 1.0), netgen.csg.Vec(0.0, 1.0, 0.0))\n",
    "bot = netgen.csg.Plane(netgen.csg.Pnt(0.0, 0.0, 0.0), netgen.csg.Vec(0.0, 0.0, -1.0))\n",
    "top = netgen.csg.Plane(netgen.csg.Pnt(1.0, 1.0, 1.0), netgen.csg.Vec(0.0, 0.0, 1.0))\n",
    "cube = left * right * front * back * bot * top\n",
    "cube.bc(\"cube\")\n",
    "sphere = netgen.csg.Sphere(netgen.csg.Pnt(0.6, 0.6, 0.6), 0.5)\n",
    "geo = netgen.csg.CSGeometry()\n",
    "geo.Add(cube - sphere)\n",
    "mesh_3d = firedrake.Mesh(geo.GenerateMesh(maxh=0.1))\n",
    "del left, right, front, back, bot, top\n",
    "del cube, sphere,\n",
    "del geo"
   ]
  },
  {
   "cell_type": "code",
   "execution_count": null,
   "id": "2f42f2c8-e3dc-4b28-8fbd-57e5ae400450",
   "metadata": {},
   "outputs": [],
   "source": [
    "viskex.firedrake.plot_mesh(mesh_2d)"
   ]
  },
  {
   "cell_type": "code",
   "execution_count": null,
   "id": "afa823f3-f208-4080-be7c-fdb2faa24812",
   "metadata": {},
   "outputs": [],
   "source": [
    "viskex.firedrake.plot_mesh(mesh_2d, dim=2)"
   ]
  },
  {
   "cell_type": "code",
   "execution_count": null,
   "id": "d71b4431-3e71-4061-a135-bc66051b8c3a",
   "metadata": {},
   "outputs": [],
   "source": [
    "viskex.firedrake.plot_mesh(mesh_2d, dim=1)"
   ]
  },
  {
   "cell_type": "code",
   "execution_count": null,
   "id": "cd0419c3-59ac-4d04-b947-451ea11f1bf9",
   "metadata": {},
   "outputs": [],
   "source": [
    "viskex.firedrake.plot_mesh(mesh_2d, dim=0)"
   ]
  },
  {
   "cell_type": "code",
   "execution_count": null,
   "id": "7d733dd0-4f80-40da-930f-2b56f0034a9f",
   "metadata": {},
   "outputs": [],
   "source": [
    "viskex.firedrake.plot_mesh(mesh_3d)"
   ]
  },
  {
   "cell_type": "code",
   "execution_count": null,
   "id": "23608645-151e-4f97-ac62-08f4b89373a8",
   "metadata": {},
   "outputs": [],
   "source": [
    "viskex.firedrake.plot_mesh(mesh_3d, dim=3)"
   ]
  },
  {
   "cell_type": "code",
   "execution_count": null,
   "id": "7802e5bc-03ad-40e8-9cd4-cb553fa3a87a",
   "metadata": {},
   "outputs": [],
   "source": [
    "viskex.firedrake.plot_mesh(mesh_3d, dim=2)"
   ]
  },
  {
   "cell_type": "code",
   "execution_count": null,
   "id": "9a1c62ad-d2a5-4e21-87f5-ea85a3d21c16",
   "metadata": {},
   "outputs": [],
   "source": [
    "viskex.firedrake.plot_mesh(mesh_3d, dim=1)"
   ]
  },
  {
   "cell_type": "code",
   "execution_count": null,
   "id": "75d8426f-5701-410b-bea3-a88eb9f55dd8",
   "metadata": {},
   "outputs": [],
   "source": [
    "viskex.firedrake.plot_mesh(mesh_3d, dim=0)"
   ]
  },
  {
   "cell_type": "markdown",
   "id": "5c6af58c-dbf5-4eb3-827d-265fd75a644b",
   "metadata": {},
   "source": [
    "Plot subdomains"
   ]
  },
  {
   "cell_type": "code",
   "execution_count": null,
   "id": "1f44122a-c2e5-4593-aa58-933058c0447c",
   "metadata": {},
   "outputs": [],
   "source": [
    "viskex.firedrake.plot_mesh_entities(\n",
    "    mesh_2d, 2, \"subdomains\", mesh_2d.cell_subset(1).indices\n",
    ")"
   ]
  },
  {
   "cell_type": "code",
   "execution_count": null,
   "id": "a25aeac3-88a1-47c3-8cae-ddac8f40a0e1",
   "metadata": {},
   "outputs": [],
   "source": [
    "viskex.firedrake.plot_mesh_entities(\n",
    "    mesh_2d, 2, \"subdomains\", mesh_2d.cell_subset(1).indices,\n",
    "    2 * np.ones_like(mesh_2d.cell_subset(1).indices)\n",
    ")"
   ]
  },
  {
   "cell_type": "code",
   "execution_count": null,
   "id": "b504bdc3-e452-42b4-bad2-c8ba75ae629b",
   "metadata": {},
   "outputs": [],
   "source": [
    "viskex.firedrake.plot_mesh_sets(mesh_2d, 2, \"subdomains\")"
   ]
  },
  {
   "cell_type": "code",
   "execution_count": null,
   "id": "9270b02e-e385-4e72-ba77-d1d0ec8a9f5d",
   "metadata": {},
   "outputs": [],
   "source": [
    "viskex.firedrake.plot_mesh_sets(mesh_3d, 3, \"subdomains\")"
   ]
  },
  {
   "cell_type": "markdown",
   "id": "4c6c09d1-73e5-4e25-98fb-4d6766e9d0fb",
   "metadata": {},
   "source": [
    "Plot boundaries"
   ]
  },
  {
   "cell_type": "code",
   "execution_count": null,
   "id": "5b89d58e-412b-45a8-929b-4fce25ac6586",
   "metadata": {},
   "outputs": [],
   "source": [
    "viskex.firedrake.plot_mesh_entities(\n",
    "    mesh_2d, 1, \"boundaries\",\n",
    "    mesh_2d.exterior_facets.measure_set(\"exterior_facet\", 1).indices\n",
    ")"
   ]
  },
  {
   "cell_type": "code",
   "execution_count": null,
   "id": "1350e9bf-5f86-4f37-ba71-181693af0355",
   "metadata": {},
   "outputs": [],
   "source": [
    "viskex.firedrake.plot_mesh_entities(\n",
    "    mesh_2d, 1, \"boundaries\",\n",
    "    mesh_2d.exterior_facets.measure_set(\"exterior_facet\", \"everywhere\").size\n",
    "    + np.hstack((\n",
    "        mesh_2d.interior_facets.measure_set(\"interior_facet\", 5).indices,\n",
    "        mesh_2d.interior_facets.measure_set(\"interior_facet\", 6).indices,\n",
    "        mesh_2d.interior_facets.measure_set(\"interior_facet\", 7).indices,\n",
    "        mesh_2d.interior_facets.measure_set(\"interior_facet\", 8).indices\n",
    "    ))\n",
    ")"
   ]
  },
  {
   "cell_type": "code",
   "execution_count": null,
   "id": "fffe02e5-4943-41c7-b3e1-b2f199609871",
   "metadata": {},
   "outputs": [],
   "source": [
    "viskex.firedrake.plot_mesh_sets(mesh_2d, 1, \"boundaries\")"
   ]
  },
  {
   "cell_type": "code",
   "execution_count": null,
   "id": "8e7b48d6-0954-4413-8a27-b177ef9ab190",
   "metadata": {},
   "outputs": [],
   "source": [
    "viskex.firedrake.plot_mesh_sets(mesh_3d, 2, \"boundaries\")"
   ]
  },
  {
   "cell_type": "markdown",
   "id": "a1053589-0faa-4e31-9b6a-bbec8b7464c1",
   "metadata": {},
   "source": [
    "Interpolate and plot scalar functions"
   ]
  },
  {
   "cell_type": "code",
   "execution_count": null,
   "id": "7aeedd87-254b-4246-b89b-989c5ce55aac",
   "metadata": {},
   "outputs": [],
   "source": [
    "def prepare_scalar_field_cases(  # type: ignore[no-any-unimported]\n",
    "    mesh: firedrake.Mesh,\n",
    "    expression: typing.Callable[[ufl.core.expr.Expr], ufl.core.expr.Expr]\n",
    ") -> typing.Tuple[firedrake.Function, typing.Tuple[ufl.core.expr.Expr, ufl.FunctionSpace]]:\n",
    "    \"\"\"Prepare scalar field cases.\"\"\"\n",
    "    scalar_function_space = firedrake.FunctionSpace(mesh, \"CG\", 2)\n",
    "    scalar_field_ufl = expression(ufl.SpatialCoordinate(mesh))\n",
    "    scalar_field = firedrake.interpolate(scalar_field_ufl, scalar_function_space)\n",
    "    return scalar_field, (scalar_field_ufl, scalar_function_space)"
   ]
  },
  {
   "cell_type": "code",
   "execution_count": null,
   "id": "0ae4defe-28d5-4da6-88d5-f0f2dd96ff63",
   "metadata": {},
   "outputs": [],
   "source": [
    "mesh_2d_scalar_field, mesh_2d_scalar_field_ufl = prepare_scalar_field_cases(\n",
    "    mesh_2d, lambda x: x[0]**3 + x[1]**2)\n",
    "mesh_3d_scalar_field, mesh_3d_scalar_field_ufl = prepare_scalar_field_cases(\n",
    "    mesh_3d, lambda x: x[0]**3 + x[1]**2 + x[2]**4)"
   ]
  },
  {
   "cell_type": "code",
   "execution_count": null,
   "id": "df051395-f0ab-4694-a3ab-89f1aa1158f4",
   "metadata": {},
   "outputs": [],
   "source": [
    "viskex.firedrake.plot_scalar_field(mesh_2d_scalar_field, \"scalar\")"
   ]
  },
  {
   "cell_type": "code",
   "execution_count": null,
   "id": "5a6c96c9-a634-481c-a186-a269bfb5a140",
   "metadata": {},
   "outputs": [],
   "source": [
    "viskex.firedrake.plot_scalar_field(mesh_2d_scalar_field, \"scalar\", warp_factor=1.0)"
   ]
  },
  {
   "cell_type": "code",
   "execution_count": null,
   "id": "85434848-2150-4416-8c8c-633e29f4997b",
   "metadata": {},
   "outputs": [],
   "source": [
    "viskex.firedrake.plot_scalar_field(mesh_2d_scalar_field_ufl, \"scalar\")"
   ]
  },
  {
   "cell_type": "code",
   "execution_count": null,
   "id": "05073f5c-169a-4517-8f73-c65950034d72",
   "metadata": {},
   "outputs": [],
   "source": [
    "viskex.firedrake.plot_scalar_field(mesh_3d_scalar_field, \"scalar\")"
   ]
  },
  {
   "cell_type": "code",
   "execution_count": null,
   "id": "dfac674a-aeca-4148-ae53-2c8b31882ced",
   "metadata": {},
   "outputs": [],
   "source": [
    "viskex.firedrake.plot_scalar_field(mesh_3d_scalar_field_ufl, \"scalar\")"
   ]
  },
  {
   "cell_type": "markdown",
   "id": "93f07449-6d85-4534-9fd5-eb4a0026afb5",
   "metadata": {},
   "source": [
    "Interpolate and plot vector functions"
   ]
  },
  {
   "cell_type": "code",
   "execution_count": null,
   "id": "164d4199-7532-4006-84a6-351a052e7f29",
   "metadata": {},
   "outputs": [],
   "source": [
    "def prepare_vector_field_cases(  # type: ignore[no-any-unimported]\n",
    "    mesh: firedrake.Mesh,\n",
    "    expression: typing.Callable[[ufl.core.expr.Expr], ufl.core.expr.Expr]\n",
    ") -> typing.Tuple[firedrake.Function, typing.Tuple[ufl.core.expr.Expr, ufl.FunctionSpace]]:\n",
    "    \"\"\"Prepare vector field cases.\"\"\"\n",
    "    vector_function_space = firedrake.VectorFunctionSpace(mesh, \"CG\", 2)\n",
    "    vector_field_ufl = ufl.as_vector(expression(ufl.SpatialCoordinate(mesh)))\n",
    "    vector_field = firedrake.interpolate(vector_field_ufl, vector_function_space)\n",
    "    return vector_field, (vector_field_ufl, vector_function_space)"
   ]
  },
  {
   "cell_type": "code",
   "execution_count": null,
   "id": "5fab08b7-7348-4910-bdeb-d497d4bfc1f7",
   "metadata": {},
   "outputs": [],
   "source": [
    "mesh_2d_vector_field, mesh_2d_vector_field_ufl = prepare_vector_field_cases(\n",
    "    mesh_2d, lambda x: (x[0]**3 + x[1]**2, x[0]**5 + x[1]**4))\n",
    "mesh_3d_vector_field, mesh_3d_vector_field_ufl = prepare_vector_field_cases(\n",
    "    mesh_3d, lambda x: (x[0]**3 + x[1]**2 + x[2]**4, x[0]**6 + x[1]**5 + x[2]**7, x[0]**9 + x[1]**8 + x[2]**10))"
   ]
  },
  {
   "cell_type": "code",
   "execution_count": null,
   "id": "a70c810c-d7a7-4bf7-9788-ae9e4f101b11",
   "metadata": {},
   "outputs": [],
   "source": [
    "viskex.firedrake.plot_vector_field(mesh_2d_vector_field, \"vector\")"
   ]
  },
  {
   "cell_type": "code",
   "execution_count": null,
   "id": "8100f014-6ff5-4757-b8ff-eb00f1086374",
   "metadata": {},
   "outputs": [],
   "source": [
    "viskex.firedrake.plot_vector_field(mesh_2d_vector_field, \"vector\", glyph_factor=0.1)"
   ]
  },
  {
   "cell_type": "code",
   "execution_count": null,
   "id": "1375191c-4dc0-4bec-8cdc-916f82997202",
   "metadata": {},
   "outputs": [],
   "source": [
    "viskex.firedrake.plot_vector_field(mesh_2d_vector_field, \"vector\", warp_factor=1.0)"
   ]
  },
  {
   "cell_type": "code",
   "execution_count": null,
   "id": "50c107f7-8665-4c3a-bd12-b43c1fe5b88d",
   "metadata": {},
   "outputs": [],
   "source": [
    "viskex.firedrake.plot_vector_field(mesh_2d_vector_field_ufl, \"vector\")"
   ]
  },
  {
   "cell_type": "code",
   "execution_count": null,
   "id": "22eb6183-01da-4d27-8d8c-5dd71ec88c43",
   "metadata": {},
   "outputs": [],
   "source": [
    "viskex.firedrake.plot_vector_field(mesh_3d_vector_field, \"vector\")"
   ]
  },
  {
   "cell_type": "code",
   "execution_count": null,
   "id": "07256114-e6a7-484b-9c07-5f58068897c1",
   "metadata": {},
   "outputs": [],
   "source": [
    "viskex.firedrake.plot_vector_field(mesh_3d_vector_field, \"vector\", glyph_factor=0.1)"
   ]
  },
  {
   "cell_type": "code",
   "execution_count": null,
   "id": "091737c2-b7f2-4c06-b6f1-4b5503ac6d9f",
   "metadata": {},
   "outputs": [],
   "source": [
    "viskex.firedrake.plot_vector_field(mesh_3d_vector_field, \"vector\", warp_factor=1.0)"
   ]
  }
 ],
 "metadata": {
  "kernelspec": {
   "display_name": "Python 3 (ipykernel)",
   "language": "python",
   "name": "python3"
  },
  "language_info": {
   "codemirror_mode": {
    "name": "ipython"
   },
   "file_extension": ".py",
   "mimetype": "text/x-python",
   "name": "python",
   "nbconvert_exporter": "python"
  }
 },
 "nbformat": 4,
 "nbformat_minor": 5
}
