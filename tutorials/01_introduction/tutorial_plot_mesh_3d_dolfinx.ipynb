{
 "cells": [
  {
   "cell_type": "markdown",
   "id": "16aa32fc-d7a0-44a0-bf67-23a03f60b3a4",
   "metadata": {},
   "source": [
    "# Plot a 3D dolfinx mesh"
   ]
  },
  {
   "cell_type": "code",
   "execution_count": null,
   "id": "fenicsx_install",
   "metadata": {},
   "outputs": [],
   "source": [
    "try:\n",
    "    import dolfinx\n",
    "except ImportError:\n",
    "    !wget \"https://github.com/fem-on-kaggle/fem-on-kaggle.github.io/raw/d55c38e/releases/fenicsx-install-real.sh\" -O \"/tmp/fenicsx-install.sh\" && bash \"/tmp/fenicsx-install.sh\"\n",
    "    import dolfinx"
   ]
  },
  {
   "cell_type": "code",
   "execution_count": null,
   "id": "viskex_install",
   "metadata": {},
   "outputs": [],
   "source": [
    "try:\n",
    "    import viskex\n",
    "except ImportError:\n",
    "    !pip3 install \"viskex@git+https://github.com/viskex/viskex.git@f26b326\"\n",
    "    import viskex"
   ]
  },
  {
   "cell_type": "code",
   "execution_count": null,
   "id": "775eabcd-7a6c-4725-963b-d0208ae1498e",
   "metadata": {},
   "outputs": [],
   "source": [
    "import dolfinx.mesh\n",
    "import mpi4py.MPI"
   ]
  },
  {
   "cell_type": "code",
   "execution_count": null,
   "id": "d000a091-97d1-4f3d-8d1d-33729bc5abf3",
   "metadata": {},
   "outputs": [],
   "source": [
    "import viskex"
   ]
  },
  {
   "cell_type": "markdown",
   "id": "d1691dd3-31fb-4542-91c7-f01c838d6fa0",
   "metadata": {},
   "source": [
    "Generate meshes of the unit cube by dividing each edge of the cube in 6 segments, using either a tetrahedral or hexahedral mesh."
   ]
  },
  {
   "cell_type": "code",
   "execution_count": null,
   "id": "331a5e8a-8b43-4cc1-81c1-1b07d3d84bdb",
   "metadata": {},
   "outputs": [],
   "source": [
    "cube_tetra = dolfinx.mesh.create_unit_cube(mpi4py.MPI.COMM_WORLD, 6, 6, 6, dolfinx.mesh.CellType.tetrahedron)\n",
    "cube_hexa = dolfinx.mesh.create_unit_cube(mpi4py.MPI.COMM_WORLD, 6, 6, 6, dolfinx.mesh.CellType.hexahedron)"
   ]
  },
  {
   "cell_type": "markdown",
   "id": "bfaa6a7d-17ed-45a0-ae07-0812253010fc",
   "metadata": {},
   "source": [
    "Plot the meshes."
   ]
  },
  {
   "cell_type": "code",
   "execution_count": null,
   "id": "c16e33b1-f677-40bc-b8c8-acf5c37dde8c",
   "metadata": {},
   "outputs": [],
   "source": [
    "viskex.dolfinx.plot_mesh(cube_tetra)"
   ]
  },
  {
   "cell_type": "code",
   "execution_count": null,
   "id": "bd43fbae-5295-4807-8f09-424abc3598ad",
   "metadata": {},
   "outputs": [],
   "source": [
    "viskex.dolfinx.plot_mesh(cube_hexa)"
   ]
  },
  {
   "cell_type": "markdown",
   "id": "4cde3898-afd7-4eb0-bf1b-0fb77a2c2b44",
   "metadata": {},
   "source": [
    "An optional argument `dim` argument controls the dimension of the entities to plotted. By default, it is equal to the topological dimension. In this example, `dim=3` plots cells of the mesh (i.e., tetrahedra or hexahedra), `dim=2` plots facets of the mesh (i.e., triangles or quadrilaterals), `dim=1` plots the edges of the mesh, while `dim=0` plots vertices of the mesh."
   ]
  },
  {
   "cell_type": "code",
   "execution_count": null,
   "id": "34c17dd1-0c27-4cf3-961f-ded7b39872b2",
   "metadata": {},
   "outputs": [],
   "source": [
    "viskex.dolfinx.plot_mesh(cube_tetra, dim=3)"
   ]
  },
  {
   "cell_type": "code",
   "execution_count": null,
   "id": "7db178ac-d5c4-467f-9bf8-01a2781bbc90",
   "metadata": {},
   "outputs": [],
   "source": [
    "viskex.dolfinx.plot_mesh(cube_hexa, dim=3)"
   ]
  },
  {
   "cell_type": "code",
   "execution_count": null,
   "id": "7eb83971-507f-435c-a69b-adbd4383f834",
   "metadata": {},
   "outputs": [],
   "source": [
    "viskex.dolfinx.plot_mesh(cube_tetra, dim=2)"
   ]
  },
  {
   "cell_type": "code",
   "execution_count": null,
   "id": "81c8d9a6-af4d-4060-ae0c-5a19156b05cd",
   "metadata": {},
   "outputs": [],
   "source": [
    "viskex.dolfinx.plot_mesh(cube_hexa, dim=2)"
   ]
  },
  {
   "cell_type": "code",
   "execution_count": null,
   "id": "0fdfc9e1-c8ad-464e-b7af-74c7c9068b75",
   "metadata": {},
   "outputs": [],
   "source": [
    "viskex.dolfinx.plot_mesh(cube_tetra, dim=1)"
   ]
  },
  {
   "cell_type": "code",
   "execution_count": null,
   "id": "c26b62e1-9eac-4d26-bd36-cb491ef30e6b",
   "metadata": {},
   "outputs": [],
   "source": [
    "viskex.dolfinx.plot_mesh(cube_hexa, dim=1)"
   ]
  },
  {
   "cell_type": "code",
   "execution_count": null,
   "id": "220f548f-30be-4362-9950-059354373c64",
   "metadata": {},
   "outputs": [],
   "source": [
    "viskex.dolfinx.plot_mesh(cube_tetra, dim=0)"
   ]
  },
  {
   "cell_type": "code",
   "execution_count": null,
   "id": "153216bb-3105-4ed3-8da5-410724b6eaba",
   "metadata": {},
   "outputs": [],
   "source": [
    "viskex.dolfinx.plot_mesh(cube_hexa, dim=0)"
   ]
  }
 ],
 "metadata": {
  "kernelspec": {
   "display_name": "Python 3 (ipykernel)",
   "language": "python",
   "name": "python3"
  },
  "language_info": {
   "codemirror_mode": {
    "name": "ipython"
   },
   "file_extension": ".py",
   "mimetype": "text/x-python",
   "name": "python",
   "nbconvert_exporter": "python"
  }
 },
 "nbformat": 4,
 "nbformat_minor": 5
}
