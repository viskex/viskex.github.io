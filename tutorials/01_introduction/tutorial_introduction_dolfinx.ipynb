{
 "cells": [
  {
   "cell_type": "code",
   "execution_count": null,
   "id": "fenicsx_install",
   "metadata": {},
   "outputs": [],
   "source": [
    "try:\n",
    "    import dolfinx\n",
    "except ImportError:\n",
    "    !wget \"https://github.com/fem-on-kaggle/fem-on-kaggle.github.io/raw/5da83eb/releases/fenicsx-install-real.sh\" -O \"/tmp/fenicsx-install.sh\" && bash \"/tmp/fenicsx-install.sh\"\n",
    "    import dolfinx"
   ]
  },
  {
   "cell_type": "code",
   "execution_count": null,
   "id": "viskex_install",
   "metadata": {},
   "outputs": [],
   "source": [
    "try:\n",
    "    import viskex\n",
    "except ImportError:\n",
    "    !pip3 install \"viskex@git+https://github.com/viskex/viskex.git@9ee84ce\"\n",
    "    import viskex"
   ]
  },
  {
   "cell_type": "code",
   "execution_count": null,
   "id": "683844b0-0203-4a5e-a21b-f9dfa48b763b",
   "metadata": {},
   "outputs": [],
   "source": [
    "import typing"
   ]
  },
  {
   "cell_type": "code",
   "execution_count": null,
   "id": "512d4889",
   "metadata": {},
   "outputs": [],
   "source": [
    "import dolfinx.mesh\n",
    "import mpi4py.MPI\n",
    "import numpy as np\n",
    "import ufl"
   ]
  },
  {
   "cell_type": "code",
   "execution_count": null,
   "id": "7d7a5e6a",
   "metadata": {},
   "outputs": [],
   "source": [
    "import viskex"
   ]
  },
  {
   "cell_type": "markdown",
   "id": "2aac82ba-4618-44fc-82f3-a08103310da2",
   "metadata": {},
   "source": [
    "Generate and plot meshes"
   ]
  },
  {
   "cell_type": "code",
   "execution_count": null,
   "id": "ba747903",
   "metadata": {},
   "outputs": [],
   "source": [
    "interval = dolfinx.mesh.create_unit_interval(mpi4py.MPI.COMM_WORLD, 6)\n",
    "square_tria = dolfinx.mesh.create_unit_square(mpi4py.MPI.COMM_WORLD, 3, 3, dolfinx.mesh.CellType.triangle)\n",
    "square_quad = dolfinx.mesh.create_unit_square(mpi4py.MPI.COMM_WORLD, 3, 3, dolfinx.mesh.CellType.quadrilateral)\n",
    "cube_tetra = dolfinx.mesh.create_unit_cube(mpi4py.MPI.COMM_WORLD, 3, 3, 3, dolfinx.mesh.CellType.tetrahedron)\n",
    "cube_hexa = dolfinx.mesh.create_unit_cube(mpi4py.MPI.COMM_WORLD, 3, 3, 3, dolfinx.mesh.CellType.hexahedron)"
   ]
  },
  {
   "cell_type": "code",
   "execution_count": null,
   "id": "d58ae618",
   "metadata": {},
   "outputs": [],
   "source": [
    "viskex.dolfinx.plot_mesh(interval)"
   ]
  },
  {
   "cell_type": "code",
   "execution_count": null,
   "id": "dc0010d6-a39d-4336-ab3e-364470ec56d7",
   "metadata": {},
   "outputs": [],
   "source": [
    "viskex.dolfinx.plot_mesh(interval, dim=1)"
   ]
  },
  {
   "cell_type": "code",
   "execution_count": null,
   "id": "ca1572dc-2392-4316-9900-adcb34b167ba",
   "metadata": {},
   "outputs": [],
   "source": [
    "viskex.dolfinx.plot_mesh(interval, dim=0)"
   ]
  },
  {
   "cell_type": "code",
   "execution_count": null,
   "id": "39363ece",
   "metadata": {},
   "outputs": [],
   "source": [
    "viskex.dolfinx.plot_mesh(square_tria)"
   ]
  },
  {
   "cell_type": "code",
   "execution_count": null,
   "id": "35546866-680b-449a-9bdd-7608481d0b09",
   "metadata": {},
   "outputs": [],
   "source": [
    "viskex.dolfinx.plot_mesh(square_tria, dim=2)"
   ]
  },
  {
   "cell_type": "code",
   "execution_count": null,
   "id": "f67f18f0-622e-4bd4-9036-946b3ef5b810",
   "metadata": {},
   "outputs": [],
   "source": [
    "viskex.dolfinx.plot_mesh(square_tria, dim=1)"
   ]
  },
  {
   "cell_type": "code",
   "execution_count": null,
   "id": "81607bae-2f62-44f1-aa94-482df21d4380",
   "metadata": {},
   "outputs": [],
   "source": [
    "viskex.dolfinx.plot_mesh(square_tria, dim=0)"
   ]
  },
  {
   "cell_type": "code",
   "execution_count": null,
   "id": "1cd5c95d-5d95-4f4c-a384-eac8c02a2e93",
   "metadata": {},
   "outputs": [],
   "source": [
    "viskex.dolfinx.plot_mesh(square_quad)"
   ]
  },
  {
   "cell_type": "code",
   "execution_count": null,
   "id": "c3b24acb-3f49-443e-9713-c758fc296948",
   "metadata": {},
   "outputs": [],
   "source": [
    "viskex.dolfinx.plot_mesh(square_quad, dim=2)"
   ]
  },
  {
   "cell_type": "code",
   "execution_count": null,
   "id": "1b7b2b44-278c-42d7-a50c-e81582a66667",
   "metadata": {},
   "outputs": [],
   "source": [
    "viskex.dolfinx.plot_mesh(square_quad, dim=1)"
   ]
  },
  {
   "cell_type": "code",
   "execution_count": null,
   "id": "4b347ad3-0bfc-4c65-a179-cf92314b4159",
   "metadata": {},
   "outputs": [],
   "source": [
    "viskex.dolfinx.plot_mesh(square_quad, dim=0)"
   ]
  },
  {
   "cell_type": "code",
   "execution_count": null,
   "id": "6428946d-5635-47f7-b3d4-33ecde49fc79",
   "metadata": {},
   "outputs": [],
   "source": [
    "viskex.dolfinx.plot_mesh(cube_tetra)"
   ]
  },
  {
   "cell_type": "code",
   "execution_count": null,
   "id": "d0060daf-ee93-4bac-8ad0-c9b9bbd735cd",
   "metadata": {},
   "outputs": [],
   "source": [
    "viskex.dolfinx.plot_mesh(cube_tetra, dim=3)"
   ]
  },
  {
   "cell_type": "code",
   "execution_count": null,
   "id": "cc1abd38-4e04-4155-9de9-8fc085f98b6d",
   "metadata": {},
   "outputs": [],
   "source": [
    "viskex.dolfinx.plot_mesh(cube_tetra, dim=2)"
   ]
  },
  {
   "cell_type": "code",
   "execution_count": null,
   "id": "bf53cc5c-4f30-4e7c-872c-1898eba6cc62",
   "metadata": {},
   "outputs": [],
   "source": [
    "viskex.dolfinx.plot_mesh(cube_tetra, dim=1)"
   ]
  },
  {
   "cell_type": "code",
   "execution_count": null,
   "id": "693ec3ea-f71d-4b41-a25b-e98609a0de20",
   "metadata": {},
   "outputs": [],
   "source": [
    "viskex.dolfinx.plot_mesh(cube_tetra, dim=0)"
   ]
  },
  {
   "cell_type": "code",
   "execution_count": null,
   "id": "b6d23347-0e20-49aa-9fa9-dc438b8523d4",
   "metadata": {},
   "outputs": [],
   "source": [
    "viskex.dolfinx.plot_mesh(cube_hexa)"
   ]
  },
  {
   "cell_type": "code",
   "execution_count": null,
   "id": "e5072017-1813-41dc-ba41-620053bfe79b",
   "metadata": {},
   "outputs": [],
   "source": [
    "viskex.dolfinx.plot_mesh(cube_hexa, dim=3)"
   ]
  },
  {
   "cell_type": "code",
   "execution_count": null,
   "id": "98272501-553d-4368-bfe5-86b67772f59c",
   "metadata": {},
   "outputs": [],
   "source": [
    "viskex.dolfinx.plot_mesh(cube_hexa, dim=2)"
   ]
  },
  {
   "cell_type": "code",
   "execution_count": null,
   "id": "b8fb3d56-f62e-44db-8268-09fcb7dfee37",
   "metadata": {},
   "outputs": [],
   "source": [
    "viskex.dolfinx.plot_mesh(cube_hexa, dim=1)"
   ]
  },
  {
   "cell_type": "code",
   "execution_count": null,
   "id": "cd2b3608-6acb-4365-ae56-2173e819aace",
   "metadata": {},
   "outputs": [],
   "source": [
    "viskex.dolfinx.plot_mesh(cube_hexa, dim=0)"
   ]
  },
  {
   "cell_type": "markdown",
   "id": "bfe6e166-49c6-4e06-9256-02531eba429f",
   "metadata": {},
   "source": [
    "Generate and plot subdomains"
   ]
  },
  {
   "cell_type": "code",
   "execution_count": null,
   "id": "d753415e-6516-4835-ac15-8046a0cb84ba",
   "metadata": {},
   "outputs": [],
   "source": [
    "def mark_subdomains(mesh: dolfinx.mesh.Mesh) -> dolfinx.mesh.MeshTags:\n",
    "    \"\"\"Mark left and right subdomains in a given mesh with values 1 and 2, respectively.\"\"\"\n",
    "    def left_subdomain(x: np.typing.NDArray[np.float64]) -> np.typing.NDArray[np.bool_]:\n",
    "        \"\"\"Condition that defines the left subdomain.\"\"\"\n",
    "        return x[0] <= 1.0 / 3.0  # type: ignore[no-any-return]\n",
    "\n",
    "    def right_subdomain(x: np.typing.NDArray[np.float64]) -> np.typing.NDArray[np.bool_]:\n",
    "        \"\"\"Condition that defines the right subdomain.\"\"\"\n",
    "        return x[0] >= 2.0 / 3.0  # type: ignore[no-any-return]\n",
    "\n",
    "    subdomains_entities = dict()\n",
    "    subdomains_values = dict()\n",
    "    for (subdomain, subdomain_id) in zip((left_subdomain, right_subdomain), (1, 2)):\n",
    "        subdomains_entities[subdomain_id] = dolfinx.mesh.locate_entities(mesh, mesh.topology.dim, subdomain)\n",
    "        subdomains_values[subdomain_id] = np.full(subdomains_entities[subdomain_id].shape, subdomain_id, dtype=np.int32)\n",
    "\n",
    "    subdomains_entities_unsorted = np.hstack(list(subdomains_entities.values()))\n",
    "    subdomains_values_unsorted = np.hstack(list(subdomains_values.values()))\n",
    "    subdomains_entities_argsort = np.argsort(subdomains_entities_unsorted)\n",
    "    subdomains_entities_sorted = subdomains_entities_unsorted[subdomains_entities_argsort]\n",
    "    subdomains_values_sorted = subdomains_values_unsorted[subdomains_entities_argsort]\n",
    "    subdomains = dolfinx.mesh.meshtags(mesh, mesh.topology.dim, subdomains_entities_sorted, subdomains_values_sorted)\n",
    "    return subdomains"
   ]
  },
  {
   "cell_type": "code",
   "execution_count": null,
   "id": "b0f9db78-515a-49a5-a6f7-6bbf777bb233",
   "metadata": {},
   "outputs": [],
   "source": [
    "interval_subdomains = mark_subdomains(interval)\n",
    "square_tria_subdomains = mark_subdomains(square_tria)\n",
    "square_quad_subdomains = mark_subdomains(square_quad)\n",
    "cube_tetra_subdomains = mark_subdomains(cube_tetra)\n",
    "cube_hexa_subdomains = mark_subdomains(cube_hexa)"
   ]
  },
  {
   "cell_type": "code",
   "execution_count": null,
   "id": "181648a3-334a-4fd1-90bd-bd0516dc4f44",
   "metadata": {},
   "outputs": [],
   "source": [
    "viskex.dolfinx.plot_mesh_entities(\n",
    "    interval, 1, \"subdomains\", interval_subdomains.indices[interval_subdomains.values == 2])"
   ]
  },
  {
   "cell_type": "code",
   "execution_count": null,
   "id": "fba18af2-a526-428e-a74c-111a856a9de3",
   "metadata": {},
   "outputs": [],
   "source": [
    "viskex.dolfinx.plot_mesh_entities(\n",
    "    interval, 1, \"subdomains\", interval_subdomains.indices, interval_subdomains.values)"
   ]
  },
  {
   "cell_type": "code",
   "execution_count": null,
   "id": "9a1df2d3-439e-41a5-b1c0-cfa715fbc185",
   "metadata": {},
   "outputs": [],
   "source": [
    "viskex.dolfinx.plot_mesh_tags(interval, interval_subdomains, \"subdomains\")"
   ]
  },
  {
   "cell_type": "code",
   "execution_count": null,
   "id": "86abd92a-90e7-45de-af24-0f308ae59d91",
   "metadata": {},
   "outputs": [],
   "source": [
    "viskex.dolfinx.plot_mesh_entities(\n",
    "    square_tria, 2, \"subdomains\", square_tria_subdomains.indices[square_tria_subdomains.values == 2])"
   ]
  },
  {
   "cell_type": "code",
   "execution_count": null,
   "id": "bd114f05-2aaa-4c72-8f7f-3457a79a9290",
   "metadata": {},
   "outputs": [],
   "source": [
    "viskex.dolfinx.plot_mesh_entities(\n",
    "    square_tria, 2, \"subdomains\", square_tria_subdomains.indices, square_tria_subdomains.values)"
   ]
  },
  {
   "cell_type": "code",
   "execution_count": null,
   "id": "72a19650-f35f-459a-97f4-7aed8b59d043",
   "metadata": {},
   "outputs": [],
   "source": [
    "viskex.dolfinx.plot_mesh_tags(square_tria, square_tria_subdomains, \"subdomains\")"
   ]
  },
  {
   "cell_type": "code",
   "execution_count": null,
   "id": "a07eb67d-3040-446d-b3ce-81c22fa4197b",
   "metadata": {},
   "outputs": [],
   "source": [
    "viskex.dolfinx.plot_mesh_tags(square_quad, square_quad_subdomains, \"subdomains\")"
   ]
  },
  {
   "cell_type": "code",
   "execution_count": null,
   "id": "78f09683-b65c-425c-a239-f9414099c7fa",
   "metadata": {},
   "outputs": [],
   "source": [
    "viskex.dolfinx.plot_mesh_tags(cube_tetra, cube_tetra_subdomains, \"subdomains\")"
   ]
  },
  {
   "cell_type": "code",
   "execution_count": null,
   "id": "9a7fe968-63b0-48d1-ae8a-6ca0b6e2ed7b",
   "metadata": {},
   "outputs": [],
   "source": [
    "viskex.dolfinx.plot_mesh_tags(cube_hexa, cube_hexa_subdomains, \"subdomains\")"
   ]
  },
  {
   "cell_type": "markdown",
   "id": "06b85584-7d99-4c32-9440-4054d6265831",
   "metadata": {},
   "source": [
    "Generate and plot boundaries"
   ]
  },
  {
   "cell_type": "code",
   "execution_count": null,
   "id": "d3da6bf0-553d-447c-8dcd-cdfdd79b3819",
   "metadata": {},
   "outputs": [],
   "source": [
    "def mark_boundaries(mesh: dolfinx.mesh.Mesh, subdomains: dolfinx.mesh.MeshTags) -> dolfinx.mesh.MeshTags:\n",
    "    \"\"\"\n",
    "    Mark internal and boundary facets in a given mesh with four different values.\n",
    "\n",
    "    Internal facets of left and right subdomains are associated with values 1 and 2, respectively.\n",
    "    Furthermore, boundary facets on the left and right boundaries are associated with values 3 and 4,\n",
    "    respectively.\n",
    "    \"\"\"\n",
    "    def left(x: np.typing.NDArray[np.float64]) -> np.typing.NDArray[np.bool_]:\n",
    "        \"\"\"Condition that defines the left boundary.\"\"\"\n",
    "        return abs(x[0] - 0.) < np.finfo(float).eps  # type: ignore[no-any-return]\n",
    "\n",
    "    def right(x: np.typing.NDArray[np.float64]) -> np.typing.NDArray[np.bool_]:\n",
    "        \"\"\"Condition that defines the right boundary.\"\"\"\n",
    "        return abs(x[0] - 1.) < np.finfo(float).eps  # type: ignore[no-any-return]\n",
    "\n",
    "    boundaries_entities = dict()\n",
    "    boundaries_values = dict()\n",
    "    for (boundary, boundary_id) in zip((left, right), (3, 4)):\n",
    "        boundaries_entities[boundary_id] = dolfinx.mesh.locate_entities_boundary(\n",
    "            mesh, mesh.topology.dim - 1, boundary)\n",
    "        boundaries_values[boundary_id] = np.full(\n",
    "            boundaries_entities[boundary_id].shape, boundary_id, dtype=np.int32)\n",
    "\n",
    "    boundaries_entities_unsorted = np.hstack(list(boundaries_entities.values()))\n",
    "    boundaries_values_unsorted = np.hstack(list(boundaries_values.values()))\n",
    "    boundaries_entities_argsort = np.argsort(boundaries_entities_unsorted)\n",
    "    boundaries_entities_sorted = boundaries_entities_unsorted[boundaries_entities_argsort]\n",
    "    boundaries_values_sorted = boundaries_values_unsorted[boundaries_entities_argsort]\n",
    "    boundaries = dolfinx.mesh.meshtags(\n",
    "        mesh, mesh.topology.dim - 1,\n",
    "        boundaries_entities_sorted, boundaries_values_sorted)\n",
    "\n",
    "    cell_to_facets_connectivity = mesh.topology.connectivity(mesh.topology.dim, mesh.topology.dim - 1)\n",
    "    new_facets_indices = list()\n",
    "    new_facets_values = list()\n",
    "    for cell in range(cell_to_facets_connectivity.num_nodes):\n",
    "        facets = cell_to_facets_connectivity.links(cell)\n",
    "        subdomain_index = np.where(subdomains.indices == cell)[0]\n",
    "        if subdomain_index.size > 0:\n",
    "            assert subdomain_index.size == 1\n",
    "            subdomain_value = subdomains.values[subdomain_index[0]]\n",
    "            if subdomain_value in (1, 2):\n",
    "                for facet in facets:\n",
    "                    if facet not in boundaries.indices and facet not in new_facets_indices:\n",
    "                        new_facets_indices.append(facet)\n",
    "                        new_facets_values.append(subdomain_value)\n",
    "\n",
    "    boundaries_and_interfaces_entities_unsorted = np.hstack((boundaries.indices, new_facets_indices)).astype(np.int32)\n",
    "    boundaries_and_interfaces_values_unsorted = np.hstack((boundaries.values, new_facets_values)).astype(np.int32)\n",
    "    boundaries_and_interfaces_entities_argsort = np.argsort(boundaries_and_interfaces_entities_unsorted)\n",
    "    boundaries_and_interfaces_entities_sorted = boundaries_and_interfaces_entities_unsorted[\n",
    "        boundaries_and_interfaces_entities_argsort]\n",
    "    boundaries_and_interfaces_values_sorted = boundaries_and_interfaces_values_unsorted[\n",
    "        boundaries_and_interfaces_entities_argsort]\n",
    "    boundaries_and_interfaces = dolfinx.mesh.meshtags(\n",
    "        mesh, mesh.topology.dim - 1,\n",
    "        boundaries_and_interfaces_entities_sorted, boundaries_and_interfaces_values_sorted)\n",
    "\n",
    "    return boundaries_and_interfaces"
   ]
  },
  {
   "cell_type": "code",
   "execution_count": null,
   "id": "9e7d7c22-6cfb-4619-b023-805eaa859615",
   "metadata": {},
   "outputs": [],
   "source": [
    "interval_boundaries = mark_boundaries(interval, interval_subdomains)\n",
    "square_tria_boundaries = mark_boundaries(square_tria, square_tria_subdomains)\n",
    "square_quad_boundaries = mark_boundaries(square_quad, square_quad_subdomains)\n",
    "cube_tetra_boundaries = mark_boundaries(cube_tetra, cube_tetra_subdomains)\n",
    "cube_hexa_boundaries = mark_boundaries(cube_hexa, cube_hexa_subdomains)"
   ]
  },
  {
   "cell_type": "code",
   "execution_count": null,
   "id": "1fb5504a-f889-4c54-8d5f-bc63921963cf",
   "metadata": {},
   "outputs": [],
   "source": [
    "viskex.dolfinx.plot_mesh_entities(\n",
    "    interval, 0, \"boundaries\", interval_boundaries.indices[interval_boundaries.values == 2])"
   ]
  },
  {
   "cell_type": "code",
   "execution_count": null,
   "id": "ed54368e-169c-4e92-8ba2-b51c22b05f66",
   "metadata": {},
   "outputs": [],
   "source": [
    "viskex.dolfinx.plot_mesh_entities(\n",
    "    interval, 0, \"boundaries\", interval_boundaries.indices, interval_boundaries.values)"
   ]
  },
  {
   "cell_type": "code",
   "execution_count": null,
   "id": "4e78cfac-cd92-4047-ad30-2c73014e8185",
   "metadata": {},
   "outputs": [],
   "source": [
    "viskex.dolfinx.plot_mesh_tags(interval, interval_boundaries, \"boundaries\")"
   ]
  },
  {
   "cell_type": "code",
   "execution_count": null,
   "id": "533676d9-de23-47f3-9ffd-822d9666c5c5",
   "metadata": {},
   "outputs": [],
   "source": [
    "viskex.dolfinx.plot_mesh_entities(\n",
    "    square_tria, 1, \"boundaries\", square_tria_boundaries.indices[square_tria_boundaries.values == 2])"
   ]
  },
  {
   "cell_type": "code",
   "execution_count": null,
   "id": "03b90f41-88ec-4207-8a7a-934e0142c851",
   "metadata": {},
   "outputs": [],
   "source": [
    "viskex.dolfinx.plot_mesh_entities(\n",
    "    square_tria, 1, \"boundaries\", square_tria_boundaries.indices, square_tria_boundaries.values)"
   ]
  },
  {
   "cell_type": "code",
   "execution_count": null,
   "id": "08858c4f-0169-4aad-94d7-156e265d54bc",
   "metadata": {},
   "outputs": [],
   "source": [
    "viskex.dolfinx.plot_mesh_tags(square_tria, square_tria_boundaries, \"boundaries\")"
   ]
  },
  {
   "cell_type": "code",
   "execution_count": null,
   "id": "da97567f-6696-4a6f-a86d-de2a1df0c2bb",
   "metadata": {},
   "outputs": [],
   "source": [
    "viskex.dolfinx.plot_mesh_tags(square_quad, square_quad_boundaries, \"boundaries\")"
   ]
  },
  {
   "cell_type": "code",
   "execution_count": null,
   "id": "b36c5de2-a5a2-4494-9bab-1f4d3f422386",
   "metadata": {},
   "outputs": [],
   "source": [
    "viskex.dolfinx.plot_mesh_tags(cube_tetra, cube_tetra_boundaries, \"boundaries\")"
   ]
  },
  {
   "cell_type": "code",
   "execution_count": null,
   "id": "3e1e6427-1c73-4a9b-88ef-563ba1eea1be",
   "metadata": {},
   "outputs": [],
   "source": [
    "viskex.dolfinx.plot_mesh_tags(cube_hexa, cube_hexa_boundaries, \"boundaries\")"
   ]
  },
  {
   "cell_type": "markdown",
   "id": "d9f12ce4-1cb8-43ea-a3eb-056b8753c82e",
   "metadata": {},
   "source": [
    "Interpolate and plot scalar functions"
   ]
  },
  {
   "cell_type": "code",
   "execution_count": null,
   "id": "a8e0162f-e506-4d3e-bf2e-0bb238b135c2",
   "metadata": {},
   "outputs": [],
   "source": [
    "def prepare_scalar_field_cases(  # type: ignore[no-any-unimported]\n",
    "    mesh: dolfinx.mesh.Mesh,\n",
    "    expression: typing.Callable[\n",
    "        [typing.Union[np.typing.NDArray[np.float64], ufl.core.expr.Expr]],\n",
    "        typing.Union[np.typing.NDArray[np.float64], ufl.core.expr.Expr]\n",
    "    ]\n",
    ") -> typing.Tuple[\n",
    "    dolfinx.fem.Function, typing.Tuple[ufl.core.expr.Expr, dolfinx.fem.FunctionSpace]\n",
    "]:\n",
    "    \"\"\"Prepare scalar field cases.\"\"\"\n",
    "    scalar_function_space = dolfinx.fem.functionspace(mesh, (\"CG\", 2))\n",
    "    scalar_field = dolfinx.fem.Function(scalar_function_space)\n",
    "    scalar_field.interpolate(expression)\n",
    "    scalar_field_ufl = expression(ufl.SpatialCoordinate(mesh))\n",
    "    return scalar_field, (scalar_field_ufl, scalar_function_space)"
   ]
  },
  {
   "cell_type": "code",
   "execution_count": null,
   "id": "7e0b5581-c199-4a69-8771-5753c0fc1805",
   "metadata": {},
   "outputs": [],
   "source": [
    "interval_scalar_field, interval_scalar_field_ufl = prepare_scalar_field_cases(\n",
    "    interval, lambda x: x[0]**3)\n",
    "square_tria_scalar_field, square_tria_scalar_field_ufl = prepare_scalar_field_cases(\n",
    "    square_tria, lambda x: x[0]**3 + x[1]**2)\n",
    "square_quad_scalar_field, square_quad_scalar_field_ufl = prepare_scalar_field_cases(\n",
    "    square_quad, lambda x: x[0]**3 + x[1]**2)\n",
    "cube_tetra_scalar_field, cube_tetra_scalar_field_ufl = prepare_scalar_field_cases(\n",
    "    cube_tetra, lambda x: x[0]**3 + x[1]**2 + x[2]**4)\n",
    "cube_hexa_scalar_field, cube_hexa_scalar_field_ufl = prepare_scalar_field_cases(\n",
    "    cube_hexa, lambda x: x[0]**3 + x[1]**2 + x[2]**4)"
   ]
  },
  {
   "cell_type": "code",
   "execution_count": null,
   "id": "c932c4ed-9ae3-407b-8b94-7e7d9bcf1caf",
   "metadata": {},
   "outputs": [],
   "source": [
    "viskex.dolfinx.plot_scalar_field(interval_scalar_field, \"scalar\")"
   ]
  },
  {
   "cell_type": "code",
   "execution_count": null,
   "id": "06be5ab6-86ff-47b8-934f-31a2bcc43c22",
   "metadata": {},
   "outputs": [],
   "source": [
    "viskex.dolfinx.plot_scalar_field(interval_scalar_field_ufl, \"scalar\")"
   ]
  },
  {
   "cell_type": "code",
   "execution_count": null,
   "id": "ea7d45d7-315a-4dfc-98dd-f7d5730990da",
   "metadata": {},
   "outputs": [],
   "source": [
    "viskex.dolfinx.plot_scalar_field(square_tria_scalar_field, \"scalar\")"
   ]
  },
  {
   "cell_type": "code",
   "execution_count": null,
   "id": "49ab4ff0-1191-450b-8821-8021b52c9bf3",
   "metadata": {},
   "outputs": [],
   "source": [
    "viskex.dolfinx.plot_scalar_field(square_tria_scalar_field, \"scalar\", warp_factor=1.0)"
   ]
  },
  {
   "cell_type": "code",
   "execution_count": null,
   "id": "8e2b4198-a230-48ca-8151-bd551dbf2609",
   "metadata": {},
   "outputs": [],
   "source": [
    "viskex.dolfinx.plot_scalar_field(square_tria_scalar_field_ufl, \"scalar\")"
   ]
  },
  {
   "cell_type": "code",
   "execution_count": null,
   "id": "32b3c648-f768-4988-9d1b-a25cea91d1df",
   "metadata": {},
   "outputs": [],
   "source": [
    "viskex.dolfinx.plot_scalar_field(square_quad_scalar_field, \"scalar\")"
   ]
  },
  {
   "cell_type": "code",
   "execution_count": null,
   "id": "7110f7d7-a2db-4054-a09f-3879264981dc",
   "metadata": {},
   "outputs": [],
   "source": [
    "viskex.dolfinx.plot_scalar_field(square_quad_scalar_field, \"scalar\", warp_factor=1.0)"
   ]
  },
  {
   "cell_type": "code",
   "execution_count": null,
   "id": "5cf81ee7-5833-4621-be36-29da3a7dfb04",
   "metadata": {},
   "outputs": [],
   "source": [
    "viskex.dolfinx.plot_scalar_field(square_quad_scalar_field_ufl, \"scalar\")"
   ]
  },
  {
   "cell_type": "code",
   "execution_count": null,
   "id": "c2d6276c-a9f7-4413-8651-f9f4f11ae574",
   "metadata": {},
   "outputs": [],
   "source": [
    "viskex.dolfinx.plot_scalar_field(cube_tetra_scalar_field, \"scalar\")"
   ]
  },
  {
   "cell_type": "code",
   "execution_count": null,
   "id": "1db560c1-99c7-457c-b4de-dd189cf16e05",
   "metadata": {},
   "outputs": [],
   "source": [
    "viskex.dolfinx.plot_scalar_field(cube_tetra_scalar_field_ufl, \"scalar\")"
   ]
  },
  {
   "cell_type": "code",
   "execution_count": null,
   "id": "ac6963ee-117d-4d41-9841-4cb936be1fb1",
   "metadata": {},
   "outputs": [],
   "source": [
    "viskex.dolfinx.plot_scalar_field(cube_hexa_scalar_field, \"scalar\")"
   ]
  },
  {
   "cell_type": "code",
   "execution_count": null,
   "id": "c0bbf814-da17-4163-9762-b038d24c3a48",
   "metadata": {},
   "outputs": [],
   "source": [
    "viskex.dolfinx.plot_scalar_field(cube_hexa_scalar_field_ufl, \"scalar\")"
   ]
  },
  {
   "cell_type": "markdown",
   "id": "418ddd2e-fbf0-45e8-85c0-574655d11306",
   "metadata": {},
   "source": [
    "Interpolate and plot vector functions"
   ]
  },
  {
   "cell_type": "code",
   "execution_count": null,
   "id": "5b90c197-3253-4aeb-9ce2-7fe64b0cf483",
   "metadata": {},
   "outputs": [],
   "source": [
    "def prepare_vector_field_cases(  # type: ignore[no-any-unimported]\n",
    "    mesh: dolfinx.mesh.Mesh,\n",
    "    expression: typing.Callable[\n",
    "        [typing.Union[np.typing.NDArray[np.float64], ufl.core.expr.Expr]],\n",
    "        typing.Union[np.typing.NDArray[np.float64], ufl.core.expr.Expr]\n",
    "    ]\n",
    ") -> typing.Tuple[\n",
    "    dolfinx.fem.Function, typing.Tuple[ufl.core.expr.Expr, dolfinx.fem.FunctionSpace]\n",
    "]:\n",
    "    \"\"\"Prepare vector field cases.\"\"\"\n",
    "    vector_function_space = dolfinx.fem.functionspace(mesh, (\"CG\", 2, (mesh.geometry.dim, )))\n",
    "    vector_field = dolfinx.fem.Function(vector_function_space)\n",
    "    vector_field.interpolate(expression)\n",
    "    vector_field_ufl = ufl.as_vector(expression(ufl.SpatialCoordinate(mesh)))\n",
    "    return vector_field, (vector_field_ufl, vector_function_space)"
   ]
  },
  {
   "cell_type": "code",
   "execution_count": null,
   "id": "0d5bedfb-c353-4266-a312-dfcb26052e99",
   "metadata": {},
   "outputs": [],
   "source": [
    "square_tria_vector_field, square_tria_vector_field_ufl = prepare_vector_field_cases(\n",
    "    square_tria, lambda x: (x[0]**3 + x[1]**2, x[0]**5 + x[1]**4))\n",
    "square_quad_vector_field, square_quad_vector_field_ufl = prepare_vector_field_cases(\n",
    "    square_quad, lambda x: (x[0]**3 + x[1]**2, x[0]**5 + x[1]**4))\n",
    "cube_tetra_vector_field, cube_tetra_vector_field_ufl = prepare_vector_field_cases(\n",
    "    cube_tetra, lambda x: (x[0]**3 + x[1]**2 + x[2]**4, x[0]**6 + x[1]**5 + x[2]**7, x[0]**9 + x[1]**8 + x[2]**10))\n",
    "cube_hexa_vector_field, cube_hexa_vector_field_ufl = prepare_vector_field_cases(\n",
    "    cube_hexa, lambda x: (x[0]**3 + x[1]**2 + x[2]**4, x[0]**6 + x[1]**5 + x[2]**7, x[0]**9 + x[1]**8 + x[2]**10))"
   ]
  },
  {
   "cell_type": "code",
   "execution_count": null,
   "id": "338678ad-e3dd-4a2b-a896-1e6d634e661b",
   "metadata": {},
   "outputs": [],
   "source": [
    "viskex.dolfinx.plot_vector_field(square_tria_vector_field, \"vector\")"
   ]
  },
  {
   "cell_type": "code",
   "execution_count": null,
   "id": "4ac5ea25-2fc1-4e30-8bd1-0043027037ee",
   "metadata": {},
   "outputs": [],
   "source": [
    "viskex.dolfinx.plot_vector_field(square_tria_vector_field, \"vector\", glyph_factor=0.1)"
   ]
  },
  {
   "cell_type": "code",
   "execution_count": null,
   "id": "9075b5cf-ff9f-46e4-831d-137e672ed702",
   "metadata": {},
   "outputs": [],
   "source": [
    "viskex.dolfinx.plot_vector_field(square_tria_vector_field, \"vector\", warp_factor=1.0)"
   ]
  },
  {
   "cell_type": "code",
   "execution_count": null,
   "id": "92bd564d-2eda-4044-8836-154a56936da7",
   "metadata": {},
   "outputs": [],
   "source": [
    "viskex.dolfinx.plot_vector_field(square_tria_vector_field_ufl, \"vector\")"
   ]
  },
  {
   "cell_type": "code",
   "execution_count": null,
   "id": "899bfa56-1f3c-443f-9655-33893a2fef88",
   "metadata": {},
   "outputs": [],
   "source": [
    "viskex.dolfinx.plot_vector_field(square_quad_vector_field, \"vector\")"
   ]
  },
  {
   "cell_type": "code",
   "execution_count": null,
   "id": "da04939c-5b89-4ea3-a4ba-63d6c8a00845",
   "metadata": {},
   "outputs": [],
   "source": [
    "viskex.dolfinx.plot_vector_field(square_quad_vector_field, \"vector\", glyph_factor=0.1)"
   ]
  },
  {
   "cell_type": "code",
   "execution_count": null,
   "id": "cb376947-c380-4266-9d9f-ae33f2d805f9",
   "metadata": {},
   "outputs": [],
   "source": [
    "viskex.dolfinx.plot_vector_field(square_quad_vector_field, \"vector\", warp_factor=1.0)"
   ]
  },
  {
   "cell_type": "code",
   "execution_count": null,
   "id": "444e611e-6566-4e2c-8bf4-06f37e1c74b3",
   "metadata": {},
   "outputs": [],
   "source": [
    "viskex.dolfinx.plot_vector_field(cube_tetra_vector_field, \"vector\")"
   ]
  },
  {
   "cell_type": "code",
   "execution_count": null,
   "id": "69f39b4f-2d58-4ece-bde3-4e12be4930ba",
   "metadata": {},
   "outputs": [],
   "source": [
    "viskex.dolfinx.plot_vector_field(cube_tetra_vector_field, \"vector\", glyph_factor=0.1)"
   ]
  },
  {
   "cell_type": "code",
   "execution_count": null,
   "id": "3de87193-d742-4a73-a384-7c9ad1302eb4",
   "metadata": {},
   "outputs": [],
   "source": [
    "viskex.dolfinx.plot_vector_field(cube_tetra_vector_field, \"vector\", warp_factor=1.0)"
   ]
  },
  {
   "cell_type": "code",
   "execution_count": null,
   "id": "3ee05195-d3fc-46ff-b5e3-c867ec033f20",
   "metadata": {},
   "outputs": [],
   "source": [
    "viskex.dolfinx.plot_vector_field(cube_hexa_vector_field, \"vector\")"
   ]
  },
  {
   "cell_type": "code",
   "execution_count": null,
   "id": "aab0c893-6d43-4d65-a8d6-96d15295e142",
   "metadata": {},
   "outputs": [],
   "source": [
    "viskex.dolfinx.plot_vector_field(cube_hexa_vector_field, \"vector\", glyph_factor=0.1)"
   ]
  },
  {
   "cell_type": "code",
   "execution_count": null,
   "id": "57f8ad68-ebd2-46be-b95e-853fe7acac8a",
   "metadata": {},
   "outputs": [],
   "source": [
    "viskex.dolfinx.plot_vector_field(cube_hexa_vector_field, \"vector\", warp_factor=1.0)"
   ]
  }
 ],
 "metadata": {
  "kernelspec": {
   "display_name": "Python 3 (ipykernel)",
   "language": "python",
   "name": "python3"
  },
  "language_info": {
   "codemirror_mode": {
    "name": "ipython"
   },
   "file_extension": ".py",
   "mimetype": "text/x-python",
   "name": "python",
   "nbconvert_exporter": "python"
  }
 },
 "nbformat": 4,
 "nbformat_minor": 5
}
