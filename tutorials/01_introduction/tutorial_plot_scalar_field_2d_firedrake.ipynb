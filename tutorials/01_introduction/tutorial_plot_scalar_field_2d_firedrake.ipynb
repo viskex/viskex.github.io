{
 "cells": [
  {
   "cell_type": "markdown",
   "id": "375194fb-2565-4d31-8a69-3bba25ae9968",
   "metadata": {},
   "source": [
    "# Plot a scalar field defined on a 2D firedrake mesh"
   ]
  },
  {
   "cell_type": "code",
   "execution_count": null,
   "id": "firedrake_install",
   "metadata": {},
   "outputs": [],
   "source": [
    "try:\n",
    "    import firedrake\n",
    "except ImportError:\n",
    "    !wget \"https://github.com/fem-on-colab/fem-on-colab.github.io/raw/ab6ec57/releases/firedrake-install-real.sh\" -O \"/tmp/firedrake-install.sh\" && bash \"/tmp/firedrake-install.sh\"\n",
    "    import firedrake"
   ]
  },
  {
   "cell_type": "code",
   "execution_count": null,
   "id": "viskex_install",
   "metadata": {},
   "outputs": [],
   "source": [
    "try:\n",
    "    import viskex\n",
    "except ImportError:\n",
    "    !pip3 install \"viskex@git+https://github.com/viskex/viskex.git@9747900\"\n",
    "    import viskex"
   ]
  },
  {
   "cell_type": "code",
   "execution_count": null,
   "id": "1918a541-9f09-429e-891e-66547863295c",
   "metadata": {},
   "outputs": [],
   "source": [
    "import firedrake"
   ]
  },
  {
   "cell_type": "code",
   "execution_count": null,
   "id": "ffc8aee3-bf2c-4fd5-99e1-8cd572a10741",
   "metadata": {},
   "outputs": [],
   "source": [
    "import viskex"
   ]
  },
  {
   "cell_type": "code",
   "execution_count": null,
   "id": "5b9e6595-6544-498f-aebc-d5ea6118f9b5",
   "metadata": {},
   "outputs": [],
   "source": [
    "try:\n",
    "    import common_firedrake as common\n",
    "except ImportError:\n",
    "    !wget https://github.com/viskex/viskex/raw/main/tutorials/01_introduction/common_firedrake.py\n",
    "    import common_firedrake as common"
   ]
  },
  {
   "cell_type": "markdown",
   "id": "755fa630-a378-47c2-9efd-8090eddb967d",
   "metadata": {},
   "source": [
    "Generate meshes of the unit square by dividing each edge of the square in 6 segments, using either a triangular or quadrangular mesh."
   ]
  },
  {
   "cell_type": "code",
   "execution_count": null,
   "id": "40088943-9360-4478-9103-a814b7030a7a",
   "metadata": {},
   "outputs": [],
   "source": [
    "square_tria = firedrake.UnitSquareMesh(6, 6, quadrilateral=False, diagonal=\"right\")\n",
    "square_quad = firedrake.UnitSquareMesh(6, 6, quadrilateral=True, diagonal=\"right\")"
   ]
  },
  {
   "cell_type": "markdown",
   "id": "3ce1db38-d637-4bca-a86d-aca191d727b0",
   "metadata": {},
   "source": [
    "Interpolate the scalar field $x^3 + y^2$, and store it either in a firedrake function or a UFL expression."
   ]
  },
  {
   "cell_type": "code",
   "execution_count": null,
   "id": "cfb9eac4-a984-498c-925b-fb97d02b828e",
   "metadata": {},
   "outputs": [],
   "source": [
    "square_tria_scalar_field, square_tria_scalar_field_ufl = common.prepare_scalar_field_cases(\n",
    "    square_tria, lambda x: x[0]**3 + x[1]**2)\n",
    "square_quad_scalar_field, square_quad_scalar_field_ufl = common.prepare_scalar_field_cases(\n",
    "    square_quad, lambda x: x[0]**3 + x[1]**2)"
   ]
  },
  {
   "cell_type": "markdown",
   "id": "0503d563-d12e-44d9-bfc0-af637e319345",
   "metadata": {},
   "source": [
    "Plot the scalar field with a contour plot."
   ]
  },
  {
   "cell_type": "code",
   "execution_count": null,
   "id": "21462a70-b2f2-4a61-976c-a72342da407b",
   "metadata": {},
   "outputs": [],
   "source": [
    "viskex.firedrake.plot_scalar_field(square_tria_scalar_field, \"scalar\")"
   ]
  },
  {
   "cell_type": "code",
   "execution_count": null,
   "id": "96ea9986-bdc0-4faa-87de-783a9a27ee27",
   "metadata": {},
   "outputs": [],
   "source": [
    "viskex.firedrake.plot_scalar_field(square_tria_scalar_field_ufl, \"scalar\")"
   ]
  },
  {
   "cell_type": "code",
   "execution_count": null,
   "id": "2194d546-ac47-46f4-816a-013920703aea",
   "metadata": {},
   "outputs": [],
   "source": [
    "viskex.firedrake.plot_scalar_field(square_quad_scalar_field, \"scalar\")"
   ]
  },
  {
   "cell_type": "code",
   "execution_count": null,
   "id": "00ed31df-4cc9-465b-b32f-5df80adda34e",
   "metadata": {},
   "outputs": [],
   "source": [
    "viskex.firedrake.plot_scalar_field(square_quad_scalar_field_ufl, \"scalar\")"
   ]
  },
  {
   "cell_type": "markdown",
   "id": "f6cfbf19-5ce7-4b30-9073-2fbb5622c233",
   "metadata": {},
   "source": [
    "Plot the scalar field with a surface plot."
   ]
  },
  {
   "cell_type": "code",
   "execution_count": null,
   "id": "755abc41-5cb2-40ba-b9be-4ba47bc18f77",
   "metadata": {},
   "outputs": [],
   "source": [
    "viskex.firedrake.plot_scalar_field(square_tria_scalar_field, \"scalar\", warp_factor=0.5)"
   ]
  },
  {
   "cell_type": "code",
   "execution_count": null,
   "id": "50495470-c23b-4e87-8b22-0ae41ecea47e",
   "metadata": {},
   "outputs": [],
   "source": [
    "viskex.firedrake.plot_scalar_field(square_quad_scalar_field, \"scalar\", warp_factor=0.5)"
   ]
  }
 ],
 "metadata": {
  "kernelspec": {
   "display_name": "Python 3 (ipykernel)",
   "language": "python",
   "name": "python3"
  },
  "language_info": {
   "codemirror_mode": {
    "name": "ipython"
   },
   "file_extension": ".py",
   "mimetype": "text/x-python",
   "name": "python",
   "nbconvert_exporter": "python"
  }
 },
 "nbformat": 4,
 "nbformat_minor": 5
}
