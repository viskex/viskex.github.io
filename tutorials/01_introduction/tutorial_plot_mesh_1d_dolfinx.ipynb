{
 "cells": [
  {
   "cell_type": "markdown",
   "id": "32d2b91d-66f1-42eb-b15f-6cf9446e1093",
   "metadata": {},
   "source": [
    "# Plot a 1D dolfinx mesh"
   ]
  },
  {
   "cell_type": "code",
   "execution_count": null,
   "id": "fenicsx_install",
   "metadata": {},
   "outputs": [],
   "source": [
    "try:\n",
    "    import dolfinx\n",
    "except ImportError:\n",
    "    !wget \"https://github.com/fem-on-colab/fem-on-colab.github.io/raw/6f3e520/releases/fenicsx-install-real.sh\" -O \"/tmp/fenicsx-install.sh\" && bash \"/tmp/fenicsx-install.sh\"\n",
    "    import dolfinx"
   ]
  },
  {
   "cell_type": "code",
   "execution_count": null,
   "id": "viskex_install",
   "metadata": {},
   "outputs": [],
   "source": [
    "try:\n",
    "    import viskex\n",
    "except ImportError:\n",
    "    !pip3 install \"viskex@git+https://github.com/viskex/viskex.git@e286cfc\"\n",
    "    import viskex"
   ]
  },
  {
   "cell_type": "code",
   "execution_count": null,
   "id": "775eabcd-7a6c-4725-963b-d0208ae1498e",
   "metadata": {},
   "outputs": [],
   "source": [
    "import dolfinx.mesh\n",
    "import mpi4py.MPI"
   ]
  },
  {
   "cell_type": "code",
   "execution_count": null,
   "id": "d000a091-97d1-4f3d-8d1d-33729bc5abf3",
   "metadata": {},
   "outputs": [],
   "source": [
    "import viskex"
   ]
  },
  {
   "cell_type": "markdown",
   "id": "350de161-5adc-435e-8193-925ed7a54622",
   "metadata": {},
   "source": [
    "Generate a mesh of the unit interval, divided into six cells."
   ]
  },
  {
   "cell_type": "code",
   "execution_count": null,
   "id": "a746488f-fb64-45c8-8442-89fe265ee5aa",
   "metadata": {},
   "outputs": [],
   "source": [
    "interval = dolfinx.mesh.create_unit_interval(mpi4py.MPI.COMM_WORLD, 6)"
   ]
  },
  {
   "cell_type": "markdown",
   "id": "5a8e9066-18ac-4eb0-be50-2ae07ac5c108",
   "metadata": {},
   "source": [
    "Plot the mesh."
   ]
  },
  {
   "cell_type": "code",
   "execution_count": null,
   "id": "67a8d36f-f58d-4d3b-bcef-1f3992eae342",
   "metadata": {},
   "outputs": [],
   "source": [
    "viskex.dolfinx.plot_mesh(interval)"
   ]
  },
  {
   "cell_type": "markdown",
   "id": "7264dbd6-acb4-4bf1-8df3-9a5f1d60fee9",
   "metadata": {},
   "source": [
    "An optional argument `dim` argument controls the dimension of the entities to plotted. By default, it is equal to the topological dimension. In this example, `dim=1` plots cells of the mesh (i.e., intervals), while `dim=0` plots vertices of the mesh."
   ]
  },
  {
   "cell_type": "code",
   "execution_count": null,
   "id": "6461e756-0fc3-41bc-a2bb-a04657c5b443",
   "metadata": {},
   "outputs": [],
   "source": [
    "viskex.dolfinx.plot_mesh(interval, dim=1)"
   ]
  },
  {
   "cell_type": "code",
   "execution_count": null,
   "id": "e9f9efc4-7434-4f68-a186-6b3cc309d488",
   "metadata": {},
   "outputs": [],
   "source": [
    "viskex.dolfinx.plot_mesh(interval, dim=0)"
   ]
  }
 ],
 "metadata": {
  "kernelspec": {
   "display_name": "Python 3 (ipykernel)",
   "language": "python",
   "name": "python3"
  },
  "language_info": {
   "codemirror_mode": {
    "name": "ipython"
   },
   "file_extension": ".py",
   "mimetype": "text/x-python",
   "name": "python",
   "nbconvert_exporter": "python"
  }
 },
 "nbformat": 4,
 "nbformat_minor": 5
}
