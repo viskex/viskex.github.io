{
 "cells": [
  {
   "cell_type": "markdown",
   "id": "ee0c3656-c9d7-428a-b0f8-7a90df139f8d",
   "metadata": {},
   "source": [
    "# Plot a 2D dolfinx mesh"
   ]
  },
  {
   "cell_type": "code",
   "execution_count": null,
   "id": "fenicsx_install",
   "metadata": {},
   "outputs": [],
   "source": [
    "try:\n",
    "    import dolfinx\n",
    "except ImportError:\n",
    "    !wget \"https://github.com/fem-on-colab/fem-on-colab.github.io/raw/4ad13b1/releases/fenicsx-install-development-real.sh\" -O \"/tmp/fenicsx-install.sh\" && bash \"/tmp/fenicsx-install.sh\"\n",
    "    import dolfinx"
   ]
  },
  {
   "cell_type": "code",
   "execution_count": null,
   "id": "viskex_install",
   "metadata": {},
   "outputs": [],
   "source": [
    "try:\n",
    "    import viskex\n",
    "except ImportError:\n",
    "    !pip3 install \"viskex@git+https://github.com/viskex/viskex.git@cf5e04e\"\n",
    "    import viskex"
   ]
  },
  {
   "cell_type": "code",
   "execution_count": null,
   "id": "775eabcd-7a6c-4725-963b-d0208ae1498e",
   "metadata": {},
   "outputs": [],
   "source": [
    "import dolfinx.mesh\n",
    "import mpi4py.MPI"
   ]
  },
  {
   "cell_type": "code",
   "execution_count": null,
   "id": "d000a091-97d1-4f3d-8d1d-33729bc5abf3",
   "metadata": {},
   "outputs": [],
   "source": [
    "import viskex"
   ]
  },
  {
   "cell_type": "markdown",
   "id": "39a3690a-a941-4dbe-955f-d08347527704",
   "metadata": {},
   "source": [
    "Generate meshes of the unit square by dividing each edge of the square in 6 segments, using either a triangular or quadrangular mesh."
   ]
  },
  {
   "cell_type": "code",
   "execution_count": null,
   "id": "b23ab579-71b1-49f5-b838-ca9e0d2d052a",
   "metadata": {},
   "outputs": [],
   "source": [
    "square_tria = dolfinx.mesh.create_unit_square(mpi4py.MPI.COMM_WORLD, 6, 6, dolfinx.mesh.CellType.triangle)\n",
    "square_quad = dolfinx.mesh.create_unit_square(mpi4py.MPI.COMM_WORLD, 6, 6, dolfinx.mesh.CellType.quadrilateral)"
   ]
  },
  {
   "cell_type": "markdown",
   "id": "1d88a57f-715a-40cb-8672-9030ca5c3e68",
   "metadata": {},
   "source": [
    "Plot the meshes."
   ]
  },
  {
   "cell_type": "code",
   "execution_count": null,
   "id": "c310de4e-8695-4d14-8c14-8d1575dba49e",
   "metadata": {},
   "outputs": [],
   "source": [
    "viskex.dolfinx.plot_mesh(square_tria)"
   ]
  },
  {
   "cell_type": "code",
   "execution_count": null,
   "id": "bdda5f8c-f8d9-4874-979c-0532f2975024",
   "metadata": {},
   "outputs": [],
   "source": [
    "viskex.dolfinx.plot_mesh(square_quad)"
   ]
  },
  {
   "cell_type": "markdown",
   "id": "9c375ace-2504-438f-b08a-04a9ade00ef6",
   "metadata": {},
   "source": [
    "An optional argument `dim` argument controls the dimension of the entities to plotted. By default, it is equal to the topological dimension. In this example, `dim=2` plots cells of the mesh (i.e., triangles or quadrilaterals), `dim=1` plots facets of the mesh (i.e., segments), while `dim=0` plots vertices of the mesh."
   ]
  },
  {
   "cell_type": "code",
   "execution_count": null,
   "id": "8d917361-072d-45f1-8ae7-7f8bd5563c98",
   "metadata": {},
   "outputs": [],
   "source": [
    "viskex.dolfinx.plot_mesh(square_tria, dim=2)"
   ]
  },
  {
   "cell_type": "code",
   "execution_count": null,
   "id": "24ab73f1-528d-4948-bc86-5d5e2d664c8f",
   "metadata": {},
   "outputs": [],
   "source": [
    "viskex.dolfinx.plot_mesh(square_quad, dim=2)"
   ]
  },
  {
   "cell_type": "code",
   "execution_count": null,
   "id": "c12fb98a-8b6e-4583-8b66-2de30e19b895",
   "metadata": {},
   "outputs": [],
   "source": [
    "viskex.dolfinx.plot_mesh(square_tria, dim=1)"
   ]
  },
  {
   "cell_type": "code",
   "execution_count": null,
   "id": "f34ae8d1-a0f5-4062-8e6e-9fe260b119ac",
   "metadata": {},
   "outputs": [],
   "source": [
    "viskex.dolfinx.plot_mesh(square_quad, dim=1)"
   ]
  },
  {
   "cell_type": "code",
   "execution_count": null,
   "id": "e15a3cc7-0411-4ae3-ae17-60914e44fc26",
   "metadata": {},
   "outputs": [],
   "source": [
    "viskex.dolfinx.plot_mesh(square_tria, dim=0)"
   ]
  },
  {
   "cell_type": "code",
   "execution_count": null,
   "id": "491fa0e4-03c4-46bb-a5cc-b41fd124bc1d",
   "metadata": {},
   "outputs": [],
   "source": [
    "viskex.dolfinx.plot_mesh(square_quad, dim=0)"
   ]
  }
 ],
 "metadata": {
  "kernelspec": {
   "display_name": "Python 3 (ipykernel)",
   "language": "python",
   "name": "python3"
  },
  "language_info": {
   "codemirror_mode": {
    "name": "ipython"
   },
   "file_extension": ".py",
   "mimetype": "text/x-python",
   "name": "python",
   "nbconvert_exporter": "python"
  }
 },
 "nbformat": 4,
 "nbformat_minor": 5
}
